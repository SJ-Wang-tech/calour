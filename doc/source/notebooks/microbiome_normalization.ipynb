{
 "cells": [
  {
   "cell_type": "markdown",
   "metadata": {},
   "source": [
    "# Microbiome data normalization tutorial\n",
    "This is a jupyter notebook example of the different ways to normalize the reads (i.e. TSS, rarefaction, compositionality correction, etc)."
   ]
  },
  {
   "cell_type": "markdown",
   "metadata": {},
   "source": [
    "## Setup"
   ]
  },
  {
   "cell_type": "code",
   "execution_count": 1,
   "metadata": {
    "ExecuteTime": {
     "end_time": "2020-09-11T12:13:18.565985Z",
     "start_time": "2020-09-11T12:13:15.772024Z"
    }
   },
   "outputs": [],
   "source": [
    "import calour as ca\n",
    "ca.set_log_level(11)\n",
    "import numpy as np\n",
    "import matplotlib.pyplot as plt\n",
    "%matplotlib notebook"
   ]
  },
  {
   "cell_type": "markdown",
   "metadata": {},
   "source": [
    "## Load the data\n",
    "we use the chronic fatigue syndrome data from:\n",
    "\n",
    "Giloteaux, L., Goodrich, J.K., Walters, W.A., Levine, S.M., Ley, R.E. and Hanson, M.R., 2016.\n",
    "\n",
    "Reduced diversity and altered composition of the gut microbiome in individuals with myalgic encephalomyelitis/chronic fatigue syndrome.\n",
    "\n",
    "Microbiome, 4(1), p.30."
   ]
  },
  {
   "cell_type": "markdown",
   "metadata": {},
   "source": [
    "### Standard load with TSS normalization\n",
    "for each sample we normalize to 10000 reads/sample.\n",
    "\n",
    "This is done by dividing the number of reads of each feature in a sample by the total sum of reads  (of all features) in the sample, and then multiplying by the desired number of reads (i.e. 10000).\n",
    "\n",
    "After this normalization, the sum of (normalized) reads in each sample will be 10000.\n",
    "\n",
    "This is different from rarefaction, since each feature can have a non-integer number of reads, and less information is thrown away. However, you need to be careful not to have a bias by the original number of reads (mostly in binary methods). dsFDR works fine with this normalization.\n",
    "\n",
    "Note that we also throw away samples with less than min_reads=1000 reads total (before normalization). This is in order to reduce the discretization effect in samples with low number of reads."
   ]
  },
  {
   "cell_type": "code",
   "execution_count": 2,
   "metadata": {
    "ExecuteTime": {
     "end_time": "2020-09-11T12:13:18.702562Z",
     "start_time": "2020-09-11T12:13:18.567459Z"
    }
   },
   "outputs": [
    {
     "name": "stdout",
     "output_type": "stream",
     "text": [
      "2020-09-11 20:13:18 INFO loaded 87 samples, 2129 features\n",
      "2020-09-11 20:13:18 WARNING These have metadata but do not have data - dropped (1): {'ERR1331814'}\n",
      "2020-09-11 20:13:18 WARNING Do you forget to normalize your data? It is required before running this function\n",
      "2020-09-11 20:13:18 INFO After filtering, 87 remain.\n"
     ]
    }
   ],
   "source": [
    "cfs_normalized=ca.read_amplicon('data/chronic-fatigue-syndrome.biom',\n",
    "                     'data/chronic-fatigue-syndrome.sample.txt',\n",
    "                     normalize=10000,min_reads=1000)"
   ]
  },
  {
   "cell_type": "code",
   "execution_count": 3,
   "metadata": {
    "ExecuteTime": {
     "end_time": "2020-09-11T12:13:18.710743Z",
     "start_time": "2020-09-11T12:13:18.706091Z"
    }
   },
   "outputs": [
    {
     "name": "stdout",
     "output_type": "stream",
     "text": [
      "AmpliconExperiment with 87 samples, 2129 features\n"
     ]
    }
   ],
   "source": [
    "print(cfs_normalized)"
   ]
  },
  {
   "cell_type": "markdown",
   "metadata": {},
   "source": [
    "The sum of reads per sample should be 10000"
   ]
  },
  {
   "cell_type": "code",
   "execution_count": 4,
   "metadata": {
    "ExecuteTime": {
     "end_time": "2020-09-11T12:13:19.799515Z",
     "start_time": "2020-09-11T12:13:19.789329Z"
    }
   },
   "outputs": [
    {
     "data": {
      "text/plain": [
       "array([10000., 10000., 10000., 10000., 10000., 10000., 10000., 10000.,\n",
       "       10000., 10000., 10000., 10000., 10000., 10000., 10000., 10000.,\n",
       "       10000., 10000., 10000., 10000., 10000., 10000., 10000., 10000.,\n",
       "       10000., 10000., 10000., 10000., 10000., 10000., 10000., 10000.,\n",
       "       10000., 10000., 10000., 10000., 10000., 10000., 10000., 10000.,\n",
       "       10000., 10000., 10000., 10000., 10000., 10000., 10000., 10000.,\n",
       "       10000., 10000., 10000., 10000., 10000., 10000., 10000., 10000.,\n",
       "       10000., 10000., 10000., 10000., 10000., 10000., 10000., 10000.,\n",
       "       10000., 10000., 10000., 10000., 10000., 10000., 10000., 10000.,\n",
       "       10000., 10000., 10000., 10000., 10000., 10000., 10000., 10000.,\n",
       "       10000., 10000., 10000., 10000., 10000., 10000., 10000.])"
      ]
     },
     "execution_count": 4,
     "metadata": {},
     "output_type": "execute_result"
    }
   ],
   "source": [
    "cfs_normalized.get_data(sparse=False).sum(axis=1)"
   ]
  },
  {
   "cell_type": "markdown",
   "metadata": {},
   "source": [
    "The original number of reads per sample (before normalization) is stored in the sample_metadata table in the field \"_calour_original_abundance\""
   ]
  },
  {
   "cell_type": "code",
   "execution_count": 5,
   "metadata": {
    "ExecuteTime": {
     "end_time": "2020-09-11T12:13:20.665178Z",
     "start_time": "2020-09-11T12:13:20.558170Z"
    }
   },
   "outputs": [
    {
     "data": {
      "application/javascript": [
       "/* Put everything inside the global mpl namespace */\n",
       "/* global mpl */\n",
       "window.mpl = {};\n",
       "\n",
       "mpl.get_websocket_type = function () {\n",
       "    if (typeof WebSocket !== 'undefined') {\n",
       "        return WebSocket;\n",
       "    } else if (typeof MozWebSocket !== 'undefined') {\n",
       "        return MozWebSocket;\n",
       "    } else {\n",
       "        alert(\n",
       "            'Your browser does not have WebSocket support. ' +\n",
       "                'Please try Chrome, Safari or Firefox ≥ 6. ' +\n",
       "                'Firefox 4 and 5 are also supported but you ' +\n",
       "                'have to enable WebSockets in about:config.'\n",
       "        );\n",
       "    }\n",
       "};\n",
       "\n",
       "mpl.figure = function (figure_id, websocket, ondownload, parent_element) {\n",
       "    this.id = figure_id;\n",
       "\n",
       "    this.ws = websocket;\n",
       "\n",
       "    this.supports_binary = this.ws.binaryType !== undefined;\n",
       "\n",
       "    if (!this.supports_binary) {\n",
       "        var warnings = document.getElementById('mpl-warnings');\n",
       "        if (warnings) {\n",
       "            warnings.style.display = 'block';\n",
       "            warnings.textContent =\n",
       "                'This browser does not support binary websocket messages. ' +\n",
       "                'Performance may be slow.';\n",
       "        }\n",
       "    }\n",
       "\n",
       "    this.imageObj = new Image();\n",
       "\n",
       "    this.context = undefined;\n",
       "    this.message = undefined;\n",
       "    this.canvas = undefined;\n",
       "    this.rubberband_canvas = undefined;\n",
       "    this.rubberband_context = undefined;\n",
       "    this.format_dropdown = undefined;\n",
       "\n",
       "    this.image_mode = 'full';\n",
       "\n",
       "    this.root = document.createElement('div');\n",
       "    this.root.setAttribute('style', 'display: inline-block');\n",
       "    this._root_extra_style(this.root);\n",
       "\n",
       "    parent_element.appendChild(this.root);\n",
       "\n",
       "    this._init_header(this);\n",
       "    this._init_canvas(this);\n",
       "    this._init_toolbar(this);\n",
       "\n",
       "    var fig = this;\n",
       "\n",
       "    this.waiting = false;\n",
       "\n",
       "    this.ws.onopen = function () {\n",
       "        fig.send_message('supports_binary', { value: fig.supports_binary });\n",
       "        fig.send_message('send_image_mode', {});\n",
       "        if (mpl.ratio !== 1) {\n",
       "            fig.send_message('set_dpi_ratio', { dpi_ratio: mpl.ratio });\n",
       "        }\n",
       "        fig.send_message('refresh', {});\n",
       "    };\n",
       "\n",
       "    this.imageObj.onload = function () {\n",
       "        if (fig.image_mode === 'full') {\n",
       "            // Full images could contain transparency (where diff images\n",
       "            // almost always do), so we need to clear the canvas so that\n",
       "            // there is no ghosting.\n",
       "            fig.context.clearRect(0, 0, fig.canvas.width, fig.canvas.height);\n",
       "        }\n",
       "        fig.context.drawImage(fig.imageObj, 0, 0);\n",
       "    };\n",
       "\n",
       "    this.imageObj.onunload = function () {\n",
       "        fig.ws.close();\n",
       "    };\n",
       "\n",
       "    this.ws.onmessage = this._make_on_message_function(this);\n",
       "\n",
       "    this.ondownload = ondownload;\n",
       "};\n",
       "\n",
       "mpl.figure.prototype._init_header = function () {\n",
       "    var titlebar = document.createElement('div');\n",
       "    titlebar.classList =\n",
       "        'ui-dialog-titlebar ui-widget-header ui-corner-all ui-helper-clearfix';\n",
       "    var titletext = document.createElement('div');\n",
       "    titletext.classList = 'ui-dialog-title';\n",
       "    titletext.setAttribute(\n",
       "        'style',\n",
       "        'width: 100%; text-align: center; padding: 3px;'\n",
       "    );\n",
       "    titlebar.appendChild(titletext);\n",
       "    this.root.appendChild(titlebar);\n",
       "    this.header = titletext;\n",
       "};\n",
       "\n",
       "mpl.figure.prototype._canvas_extra_style = function (_canvas_div) {};\n",
       "\n",
       "mpl.figure.prototype._root_extra_style = function (_canvas_div) {};\n",
       "\n",
       "mpl.figure.prototype._init_canvas = function () {\n",
       "    var fig = this;\n",
       "\n",
       "    var canvas_div = (this.canvas_div = document.createElement('div'));\n",
       "    canvas_div.setAttribute(\n",
       "        'style',\n",
       "        'border: 1px solid #ddd;' +\n",
       "            'box-sizing: content-box;' +\n",
       "            'clear: both;' +\n",
       "            'min-height: 1px;' +\n",
       "            'min-width: 1px;' +\n",
       "            'outline: 0;' +\n",
       "            'overflow: hidden;' +\n",
       "            'position: relative;' +\n",
       "            'resize: both;'\n",
       "    );\n",
       "\n",
       "    function on_keyboard_event_closure(name) {\n",
       "        return function (event) {\n",
       "            return fig.key_event(event, name);\n",
       "        };\n",
       "    }\n",
       "\n",
       "    canvas_div.addEventListener(\n",
       "        'keydown',\n",
       "        on_keyboard_event_closure('key_press')\n",
       "    );\n",
       "    canvas_div.addEventListener(\n",
       "        'keyup',\n",
       "        on_keyboard_event_closure('key_release')\n",
       "    );\n",
       "\n",
       "    this._canvas_extra_style(canvas_div);\n",
       "    this.root.appendChild(canvas_div);\n",
       "\n",
       "    var canvas = (this.canvas = document.createElement('canvas'));\n",
       "    canvas.classList.add('mpl-canvas');\n",
       "    canvas.setAttribute('style', 'box-sizing: content-box;');\n",
       "\n",
       "    this.context = canvas.getContext('2d');\n",
       "\n",
       "    var backingStore =\n",
       "        this.context.backingStorePixelRatio ||\n",
       "        this.context.webkitBackingStorePixelRatio ||\n",
       "        this.context.mozBackingStorePixelRatio ||\n",
       "        this.context.msBackingStorePixelRatio ||\n",
       "        this.context.oBackingStorePixelRatio ||\n",
       "        this.context.backingStorePixelRatio ||\n",
       "        1;\n",
       "\n",
       "    mpl.ratio = (window.devicePixelRatio || 1) / backingStore;\n",
       "\n",
       "    var rubberband_canvas = (this.rubberband_canvas = document.createElement(\n",
       "        'canvas'\n",
       "    ));\n",
       "    rubberband_canvas.setAttribute(\n",
       "        'style',\n",
       "        'box-sizing: content-box; position: absolute; left: 0; top: 0; z-index: 1;'\n",
       "    );\n",
       "\n",
       "    var resizeObserver = new ResizeObserver(function (entries) {\n",
       "        var nentries = entries.length;\n",
       "        for (var i = 0; i < nentries; i++) {\n",
       "            var entry = entries[i];\n",
       "            var width, height;\n",
       "            if (entry.contentBoxSize) {\n",
       "                if (entry.contentBoxSize instanceof Array) {\n",
       "                    // Chrome 84 implements new version of spec.\n",
       "                    width = entry.contentBoxSize[0].inlineSize;\n",
       "                    height = entry.contentBoxSize[0].blockSize;\n",
       "                } else {\n",
       "                    // Firefox implements old version of spec.\n",
       "                    width = entry.contentBoxSize.inlineSize;\n",
       "                    height = entry.contentBoxSize.blockSize;\n",
       "                }\n",
       "            } else {\n",
       "                // Chrome <84 implements even older version of spec.\n",
       "                width = entry.contentRect.width;\n",
       "                height = entry.contentRect.height;\n",
       "            }\n",
       "\n",
       "            // Keep the size of the canvas and rubber band canvas in sync with\n",
       "            // the canvas container.\n",
       "            if (entry.devicePixelContentBoxSize) {\n",
       "                // Chrome 84 implements new version of spec.\n",
       "                canvas.setAttribute(\n",
       "                    'width',\n",
       "                    entry.devicePixelContentBoxSize[0].inlineSize\n",
       "                );\n",
       "                canvas.setAttribute(\n",
       "                    'height',\n",
       "                    entry.devicePixelContentBoxSize[0].blockSize\n",
       "                );\n",
       "            } else {\n",
       "                canvas.setAttribute('width', width * mpl.ratio);\n",
       "                canvas.setAttribute('height', height * mpl.ratio);\n",
       "            }\n",
       "            canvas.setAttribute(\n",
       "                'style',\n",
       "                'width: ' + width + 'px; height: ' + height + 'px;'\n",
       "            );\n",
       "\n",
       "            rubberband_canvas.setAttribute('width', width);\n",
       "            rubberband_canvas.setAttribute('height', height);\n",
       "\n",
       "            // And update the size in Python. We ignore the initial 0/0 size\n",
       "            // that occurs as the element is placed into the DOM, which should\n",
       "            // otherwise not happen due to the minimum size styling.\n",
       "            if (width != 0 && height != 0) {\n",
       "                fig.request_resize(width, height);\n",
       "            }\n",
       "        }\n",
       "    });\n",
       "    resizeObserver.observe(canvas_div);\n",
       "\n",
       "    function on_mouse_event_closure(name) {\n",
       "        return function (event) {\n",
       "            return fig.mouse_event(event, name);\n",
       "        };\n",
       "    }\n",
       "\n",
       "    rubberband_canvas.addEventListener(\n",
       "        'mousedown',\n",
       "        on_mouse_event_closure('button_press')\n",
       "    );\n",
       "    rubberband_canvas.addEventListener(\n",
       "        'mouseup',\n",
       "        on_mouse_event_closure('button_release')\n",
       "    );\n",
       "    // Throttle sequential mouse events to 1 every 20ms.\n",
       "    rubberband_canvas.addEventListener(\n",
       "        'mousemove',\n",
       "        on_mouse_event_closure('motion_notify')\n",
       "    );\n",
       "\n",
       "    rubberband_canvas.addEventListener(\n",
       "        'mouseenter',\n",
       "        on_mouse_event_closure('figure_enter')\n",
       "    );\n",
       "    rubberband_canvas.addEventListener(\n",
       "        'mouseleave',\n",
       "        on_mouse_event_closure('figure_leave')\n",
       "    );\n",
       "\n",
       "    canvas_div.addEventListener('wheel', function (event) {\n",
       "        if (event.deltaY < 0) {\n",
       "            event.step = 1;\n",
       "        } else {\n",
       "            event.step = -1;\n",
       "        }\n",
       "        on_mouse_event_closure('scroll')(event);\n",
       "    });\n",
       "\n",
       "    canvas_div.appendChild(canvas);\n",
       "    canvas_div.appendChild(rubberband_canvas);\n",
       "\n",
       "    this.rubberband_context = rubberband_canvas.getContext('2d');\n",
       "    this.rubberband_context.strokeStyle = '#000000';\n",
       "\n",
       "    this._resize_canvas = function (width, height, forward) {\n",
       "        if (forward) {\n",
       "            canvas_div.style.width = width + 'px';\n",
       "            canvas_div.style.height = height + 'px';\n",
       "        }\n",
       "    };\n",
       "\n",
       "    // Disable right mouse context menu.\n",
       "    this.rubberband_canvas.addEventListener('contextmenu', function (_e) {\n",
       "        event.preventDefault();\n",
       "        return false;\n",
       "    });\n",
       "\n",
       "    function set_focus() {\n",
       "        canvas.focus();\n",
       "        canvas_div.focus();\n",
       "    }\n",
       "\n",
       "    window.setTimeout(set_focus, 100);\n",
       "};\n",
       "\n",
       "mpl.figure.prototype._init_toolbar = function () {\n",
       "    var fig = this;\n",
       "\n",
       "    var toolbar = document.createElement('div');\n",
       "    toolbar.classList = 'mpl-toolbar';\n",
       "    this.root.appendChild(toolbar);\n",
       "\n",
       "    function on_click_closure(name) {\n",
       "        return function (_event) {\n",
       "            return fig.toolbar_button_onclick(name);\n",
       "        };\n",
       "    }\n",
       "\n",
       "    function on_mouseover_closure(tooltip) {\n",
       "        return function (event) {\n",
       "            if (!event.currentTarget.disabled) {\n",
       "                return fig.toolbar_button_onmouseover(tooltip);\n",
       "            }\n",
       "        };\n",
       "    }\n",
       "\n",
       "    fig.buttons = {};\n",
       "    var buttonGroup = document.createElement('div');\n",
       "    buttonGroup.classList = 'mpl-button-group';\n",
       "    for (var toolbar_ind in mpl.toolbar_items) {\n",
       "        var name = mpl.toolbar_items[toolbar_ind][0];\n",
       "        var tooltip = mpl.toolbar_items[toolbar_ind][1];\n",
       "        var image = mpl.toolbar_items[toolbar_ind][2];\n",
       "        var method_name = mpl.toolbar_items[toolbar_ind][3];\n",
       "\n",
       "        if (!name) {\n",
       "            /* Instead of a spacer, we start a new button group. */\n",
       "            if (buttonGroup.hasChildNodes()) {\n",
       "                toolbar.appendChild(buttonGroup);\n",
       "            }\n",
       "            buttonGroup = document.createElement('div');\n",
       "            buttonGroup.classList = 'mpl-button-group';\n",
       "            continue;\n",
       "        }\n",
       "\n",
       "        var button = (fig.buttons[name] = document.createElement('button'));\n",
       "        button.classList = 'mpl-widget';\n",
       "        button.setAttribute('role', 'button');\n",
       "        button.setAttribute('aria-disabled', 'false');\n",
       "        button.addEventListener('click', on_click_closure(method_name));\n",
       "        button.addEventListener('mouseover', on_mouseover_closure(tooltip));\n",
       "\n",
       "        var icon_img = document.createElement('img');\n",
       "        icon_img.src = '_images/' + image + '.png';\n",
       "        icon_img.srcset = '_images/' + image + '_large.png 2x';\n",
       "        icon_img.alt = tooltip;\n",
       "        button.appendChild(icon_img);\n",
       "\n",
       "        buttonGroup.appendChild(button);\n",
       "    }\n",
       "\n",
       "    if (buttonGroup.hasChildNodes()) {\n",
       "        toolbar.appendChild(buttonGroup);\n",
       "    }\n",
       "\n",
       "    var fmt_picker = document.createElement('select');\n",
       "    fmt_picker.classList = 'mpl-widget';\n",
       "    toolbar.appendChild(fmt_picker);\n",
       "    this.format_dropdown = fmt_picker;\n",
       "\n",
       "    for (var ind in mpl.extensions) {\n",
       "        var fmt = mpl.extensions[ind];\n",
       "        var option = document.createElement('option');\n",
       "        option.selected = fmt === mpl.default_extension;\n",
       "        option.innerHTML = fmt;\n",
       "        fmt_picker.appendChild(option);\n",
       "    }\n",
       "\n",
       "    var status_bar = document.createElement('span');\n",
       "    status_bar.classList = 'mpl-message';\n",
       "    toolbar.appendChild(status_bar);\n",
       "    this.message = status_bar;\n",
       "};\n",
       "\n",
       "mpl.figure.prototype.request_resize = function (x_pixels, y_pixels) {\n",
       "    // Request matplotlib to resize the figure. Matplotlib will then trigger a resize in the client,\n",
       "    // which will in turn request a refresh of the image.\n",
       "    this.send_message('resize', { width: x_pixels, height: y_pixels });\n",
       "};\n",
       "\n",
       "mpl.figure.prototype.send_message = function (type, properties) {\n",
       "    properties['type'] = type;\n",
       "    properties['figure_id'] = this.id;\n",
       "    this.ws.send(JSON.stringify(properties));\n",
       "};\n",
       "\n",
       "mpl.figure.prototype.send_draw_message = function () {\n",
       "    if (!this.waiting) {\n",
       "        this.waiting = true;\n",
       "        this.ws.send(JSON.stringify({ type: 'draw', figure_id: this.id }));\n",
       "    }\n",
       "};\n",
       "\n",
       "mpl.figure.prototype.handle_save = function (fig, _msg) {\n",
       "    var format_dropdown = fig.format_dropdown;\n",
       "    var format = format_dropdown.options[format_dropdown.selectedIndex].value;\n",
       "    fig.ondownload(fig, format);\n",
       "};\n",
       "\n",
       "mpl.figure.prototype.handle_resize = function (fig, msg) {\n",
       "    var size = msg['size'];\n",
       "    if (size[0] !== fig.canvas.width || size[1] !== fig.canvas.height) {\n",
       "        fig._resize_canvas(size[0], size[1], msg['forward']);\n",
       "        fig.send_message('refresh', {});\n",
       "    }\n",
       "};\n",
       "\n",
       "mpl.figure.prototype.handle_rubberband = function (fig, msg) {\n",
       "    var x0 = msg['x0'] / mpl.ratio;\n",
       "    var y0 = (fig.canvas.height - msg['y0']) / mpl.ratio;\n",
       "    var x1 = msg['x1'] / mpl.ratio;\n",
       "    var y1 = (fig.canvas.height - msg['y1']) / mpl.ratio;\n",
       "    x0 = Math.floor(x0) + 0.5;\n",
       "    y0 = Math.floor(y0) + 0.5;\n",
       "    x1 = Math.floor(x1) + 0.5;\n",
       "    y1 = Math.floor(y1) + 0.5;\n",
       "    var min_x = Math.min(x0, x1);\n",
       "    var min_y = Math.min(y0, y1);\n",
       "    var width = Math.abs(x1 - x0);\n",
       "    var height = Math.abs(y1 - y0);\n",
       "\n",
       "    fig.rubberband_context.clearRect(\n",
       "        0,\n",
       "        0,\n",
       "        fig.canvas.width / mpl.ratio,\n",
       "        fig.canvas.height / mpl.ratio\n",
       "    );\n",
       "\n",
       "    fig.rubberband_context.strokeRect(min_x, min_y, width, height);\n",
       "};\n",
       "\n",
       "mpl.figure.prototype.handle_figure_label = function (fig, msg) {\n",
       "    // Updates the figure title.\n",
       "    fig.header.textContent = msg['label'];\n",
       "};\n",
       "\n",
       "mpl.figure.prototype.handle_cursor = function (fig, msg) {\n",
       "    var cursor = msg['cursor'];\n",
       "    switch (cursor) {\n",
       "        case 0:\n",
       "            cursor = 'pointer';\n",
       "            break;\n",
       "        case 1:\n",
       "            cursor = 'default';\n",
       "            break;\n",
       "        case 2:\n",
       "            cursor = 'crosshair';\n",
       "            break;\n",
       "        case 3:\n",
       "            cursor = 'move';\n",
       "            break;\n",
       "    }\n",
       "    fig.rubberband_canvas.style.cursor = cursor;\n",
       "};\n",
       "\n",
       "mpl.figure.prototype.handle_message = function (fig, msg) {\n",
       "    fig.message.textContent = msg['message'];\n",
       "};\n",
       "\n",
       "mpl.figure.prototype.handle_draw = function (fig, _msg) {\n",
       "    // Request the server to send over a new figure.\n",
       "    fig.send_draw_message();\n",
       "};\n",
       "\n",
       "mpl.figure.prototype.handle_image_mode = function (fig, msg) {\n",
       "    fig.image_mode = msg['mode'];\n",
       "};\n",
       "\n",
       "mpl.figure.prototype.handle_history_buttons = function (fig, msg) {\n",
       "    for (var key in msg) {\n",
       "        if (!(key in fig.buttons)) {\n",
       "            continue;\n",
       "        }\n",
       "        fig.buttons[key].disabled = !msg[key];\n",
       "        fig.buttons[key].setAttribute('aria-disabled', !msg[key]);\n",
       "    }\n",
       "};\n",
       "\n",
       "mpl.figure.prototype.handle_navigate_mode = function (fig, msg) {\n",
       "    if (msg['mode'] === 'PAN') {\n",
       "        fig.buttons['Pan'].classList.add('active');\n",
       "        fig.buttons['Zoom'].classList.remove('active');\n",
       "    } else if (msg['mode'] === 'ZOOM') {\n",
       "        fig.buttons['Pan'].classList.remove('active');\n",
       "        fig.buttons['Zoom'].classList.add('active');\n",
       "    } else {\n",
       "        fig.buttons['Pan'].classList.remove('active');\n",
       "        fig.buttons['Zoom'].classList.remove('active');\n",
       "    }\n",
       "};\n",
       "\n",
       "mpl.figure.prototype.updated_canvas_event = function () {\n",
       "    // Called whenever the canvas gets updated.\n",
       "    this.send_message('ack', {});\n",
       "};\n",
       "\n",
       "// A function to construct a web socket function for onmessage handling.\n",
       "// Called in the figure constructor.\n",
       "mpl.figure.prototype._make_on_message_function = function (fig) {\n",
       "    return function socket_on_message(evt) {\n",
       "        if (evt.data instanceof Blob) {\n",
       "            /* FIXME: We get \"Resource interpreted as Image but\n",
       "             * transferred with MIME type text/plain:\" errors on\n",
       "             * Chrome.  But how to set the MIME type?  It doesn't seem\n",
       "             * to be part of the websocket stream */\n",
       "            evt.data.type = 'image/png';\n",
       "\n",
       "            /* Free the memory for the previous frames */\n",
       "            if (fig.imageObj.src) {\n",
       "                (window.URL || window.webkitURL).revokeObjectURL(\n",
       "                    fig.imageObj.src\n",
       "                );\n",
       "            }\n",
       "\n",
       "            fig.imageObj.src = (window.URL || window.webkitURL).createObjectURL(\n",
       "                evt.data\n",
       "            );\n",
       "            fig.updated_canvas_event();\n",
       "            fig.waiting = false;\n",
       "            return;\n",
       "        } else if (\n",
       "            typeof evt.data === 'string' &&\n",
       "            evt.data.slice(0, 21) === 'data:image/png;base64'\n",
       "        ) {\n",
       "            fig.imageObj.src = evt.data;\n",
       "            fig.updated_canvas_event();\n",
       "            fig.waiting = false;\n",
       "            return;\n",
       "        }\n",
       "\n",
       "        var msg = JSON.parse(evt.data);\n",
       "        var msg_type = msg['type'];\n",
       "\n",
       "        // Call the  \"handle_{type}\" callback, which takes\n",
       "        // the figure and JSON message as its only arguments.\n",
       "        try {\n",
       "            var callback = fig['handle_' + msg_type];\n",
       "        } catch (e) {\n",
       "            console.log(\n",
       "                \"No handler for the '\" + msg_type + \"' message type: \",\n",
       "                msg\n",
       "            );\n",
       "            return;\n",
       "        }\n",
       "\n",
       "        if (callback) {\n",
       "            try {\n",
       "                // console.log(\"Handling '\" + msg_type + \"' message: \", msg);\n",
       "                callback(fig, msg);\n",
       "            } catch (e) {\n",
       "                console.log(\n",
       "                    \"Exception inside the 'handler_\" + msg_type + \"' callback:\",\n",
       "                    e,\n",
       "                    e.stack,\n",
       "                    msg\n",
       "                );\n",
       "            }\n",
       "        }\n",
       "    };\n",
       "};\n",
       "\n",
       "// from http://stackoverflow.com/questions/1114465/getting-mouse-location-in-canvas\n",
       "mpl.findpos = function (e) {\n",
       "    //this section is from http://www.quirksmode.org/js/events_properties.html\n",
       "    var targ;\n",
       "    if (!e) {\n",
       "        e = window.event;\n",
       "    }\n",
       "    if (e.target) {\n",
       "        targ = e.target;\n",
       "    } else if (e.srcElement) {\n",
       "        targ = e.srcElement;\n",
       "    }\n",
       "    if (targ.nodeType === 3) {\n",
       "        // defeat Safari bug\n",
       "        targ = targ.parentNode;\n",
       "    }\n",
       "\n",
       "    // pageX,Y are the mouse positions relative to the document\n",
       "    var boundingRect = targ.getBoundingClientRect();\n",
       "    var x = e.pageX - (boundingRect.left + document.body.scrollLeft);\n",
       "    var y = e.pageY - (boundingRect.top + document.body.scrollTop);\n",
       "\n",
       "    return { x: x, y: y };\n",
       "};\n",
       "\n",
       "/*\n",
       " * return a copy of an object with only non-object keys\n",
       " * we need this to avoid circular references\n",
       " * http://stackoverflow.com/a/24161582/3208463\n",
       " */\n",
       "function simpleKeys(original) {\n",
       "    return Object.keys(original).reduce(function (obj, key) {\n",
       "        if (typeof original[key] !== 'object') {\n",
       "            obj[key] = original[key];\n",
       "        }\n",
       "        return obj;\n",
       "    }, {});\n",
       "}\n",
       "\n",
       "mpl.figure.prototype.mouse_event = function (event, name) {\n",
       "    var canvas_pos = mpl.findpos(event);\n",
       "\n",
       "    if (name === 'button_press') {\n",
       "        this.canvas.focus();\n",
       "        this.canvas_div.focus();\n",
       "    }\n",
       "\n",
       "    var x = canvas_pos.x * mpl.ratio;\n",
       "    var y = canvas_pos.y * mpl.ratio;\n",
       "\n",
       "    this.send_message(name, {\n",
       "        x: x,\n",
       "        y: y,\n",
       "        button: event.button,\n",
       "        step: event.step,\n",
       "        guiEvent: simpleKeys(event),\n",
       "    });\n",
       "\n",
       "    /* This prevents the web browser from automatically changing to\n",
       "     * the text insertion cursor when the button is pressed.  We want\n",
       "     * to control all of the cursor setting manually through the\n",
       "     * 'cursor' event from matplotlib */\n",
       "    event.preventDefault();\n",
       "    return false;\n",
       "};\n",
       "\n",
       "mpl.figure.prototype._key_event_extra = function (_event, _name) {\n",
       "    // Handle any extra behaviour associated with a key event\n",
       "};\n",
       "\n",
       "mpl.figure.prototype.key_event = function (event, name) {\n",
       "    // Prevent repeat events\n",
       "    if (name === 'key_press') {\n",
       "        if (event.which === this._key) {\n",
       "            return;\n",
       "        } else {\n",
       "            this._key = event.which;\n",
       "        }\n",
       "    }\n",
       "    if (name === 'key_release') {\n",
       "        this._key = null;\n",
       "    }\n",
       "\n",
       "    var value = '';\n",
       "    if (event.ctrlKey && event.which !== 17) {\n",
       "        value += 'ctrl+';\n",
       "    }\n",
       "    if (event.altKey && event.which !== 18) {\n",
       "        value += 'alt+';\n",
       "    }\n",
       "    if (event.shiftKey && event.which !== 16) {\n",
       "        value += 'shift+';\n",
       "    }\n",
       "\n",
       "    value += 'k';\n",
       "    value += event.which.toString();\n",
       "\n",
       "    this._key_event_extra(event, name);\n",
       "\n",
       "    this.send_message(name, { key: value, guiEvent: simpleKeys(event) });\n",
       "    return false;\n",
       "};\n",
       "\n",
       "mpl.figure.prototype.toolbar_button_onclick = function (name) {\n",
       "    if (name === 'download') {\n",
       "        this.handle_save(this, null);\n",
       "    } else {\n",
       "        this.send_message('toolbar_button', { name: name });\n",
       "    }\n",
       "};\n",
       "\n",
       "mpl.figure.prototype.toolbar_button_onmouseover = function (tooltip) {\n",
       "    this.message.textContent = tooltip;\n",
       "};\n",
       "mpl.toolbar_items = [[\"Home\", \"Reset original view\", \"fa fa-home icon-home\", \"home\"], [\"Back\", \"Back to previous view\", \"fa fa-arrow-left icon-arrow-left\", \"back\"], [\"Forward\", \"Forward to next view\", \"fa fa-arrow-right icon-arrow-right\", \"forward\"], [\"\", \"\", \"\", \"\"], [\"Pan\", \"Left button pans, Right button zooms\\nx/y fixes axis, CTRL fixes aspect\", \"fa fa-arrows icon-move\", \"pan\"], [\"Zoom\", \"Zoom to rectangle\\nx/y fixes axis, CTRL fixes aspect\", \"fa fa-square-o icon-check-empty\", \"zoom\"], [\"\", \"\", \"\", \"\"], [\"Download\", \"Download plot\", \"fa fa-floppy-o icon-save\", \"download\"]];\n",
       "\n",
       "mpl.extensions = [\"eps\", \"jpeg\", \"pdf\", \"png\", \"ps\", \"raw\", \"svg\", \"tif\"];\n",
       "\n",
       "mpl.default_extension = \"png\";/* global mpl */\n",
       "\n",
       "var comm_websocket_adapter = function (comm) {\n",
       "    // Create a \"websocket\"-like object which calls the given IPython comm\n",
       "    // object with the appropriate methods. Currently this is a non binary\n",
       "    // socket, so there is still some room for performance tuning.\n",
       "    var ws = {};\n",
       "\n",
       "    ws.close = function () {\n",
       "        comm.close();\n",
       "    };\n",
       "    ws.send = function (m) {\n",
       "        //console.log('sending', m);\n",
       "        comm.send(m);\n",
       "    };\n",
       "    // Register the callback with on_msg.\n",
       "    comm.on_msg(function (msg) {\n",
       "        //console.log('receiving', msg['content']['data'], msg);\n",
       "        // Pass the mpl event to the overridden (by mpl) onmessage function.\n",
       "        ws.onmessage(msg['content']['data']);\n",
       "    });\n",
       "    return ws;\n",
       "};\n",
       "\n",
       "mpl.mpl_figure_comm = function (comm, msg) {\n",
       "    // This is the function which gets called when the mpl process\n",
       "    // starts-up an IPython Comm through the \"matplotlib\" channel.\n",
       "\n",
       "    var id = msg.content.data.id;\n",
       "    // Get hold of the div created by the display call when the Comm\n",
       "    // socket was opened in Python.\n",
       "    var element = document.getElementById(id);\n",
       "    var ws_proxy = comm_websocket_adapter(comm);\n",
       "\n",
       "    function ondownload(figure, _format) {\n",
       "        window.open(figure.canvas.toDataURL());\n",
       "    }\n",
       "\n",
       "    var fig = new mpl.figure(id, ws_proxy, ondownload, element);\n",
       "\n",
       "    // Call onopen now - mpl needs it, as it is assuming we've passed it a real\n",
       "    // web socket which is closed, not our websocket->open comm proxy.\n",
       "    ws_proxy.onopen();\n",
       "\n",
       "    fig.parent_element = element;\n",
       "    fig.cell_info = mpl.find_output_cell(\"<div id='\" + id + \"'></div>\");\n",
       "    if (!fig.cell_info) {\n",
       "        console.error('Failed to find cell for figure', id, fig);\n",
       "        return;\n",
       "    }\n",
       "};\n",
       "\n",
       "mpl.figure.prototype.handle_close = function (fig, msg) {\n",
       "    var width = fig.canvas.width / mpl.ratio;\n",
       "    fig.root.removeEventListener('remove', this._remove_fig_handler);\n",
       "\n",
       "    // Update the output cell to use the data from the current canvas.\n",
       "    fig.push_to_output();\n",
       "    var dataURL = fig.canvas.toDataURL();\n",
       "    // Re-enable the keyboard manager in IPython - without this line, in FF,\n",
       "    // the notebook keyboard shortcuts fail.\n",
       "    IPython.keyboard_manager.enable();\n",
       "    fig.parent_element.innerHTML =\n",
       "        '<img src=\"' + dataURL + '\" width=\"' + width + '\">';\n",
       "    fig.close_ws(fig, msg);\n",
       "};\n",
       "\n",
       "mpl.figure.prototype.close_ws = function (fig, msg) {\n",
       "    fig.send_message('closing', msg);\n",
       "    // fig.ws.close()\n",
       "};\n",
       "\n",
       "mpl.figure.prototype.push_to_output = function (_remove_interactive) {\n",
       "    // Turn the data on the canvas into data in the output cell.\n",
       "    var width = this.canvas.width / mpl.ratio;\n",
       "    var dataURL = this.canvas.toDataURL();\n",
       "    this.cell_info[1]['text/html'] =\n",
       "        '<img src=\"' + dataURL + '\" width=\"' + width + '\">';\n",
       "};\n",
       "\n",
       "mpl.figure.prototype.updated_canvas_event = function () {\n",
       "    // Tell IPython that the notebook contents must change.\n",
       "    IPython.notebook.set_dirty(true);\n",
       "    this.send_message('ack', {});\n",
       "    var fig = this;\n",
       "    // Wait a second, then push the new image to the DOM so\n",
       "    // that it is saved nicely (might be nice to debounce this).\n",
       "    setTimeout(function () {\n",
       "        fig.push_to_output();\n",
       "    }, 1000);\n",
       "};\n",
       "\n",
       "mpl.figure.prototype._init_toolbar = function () {\n",
       "    var fig = this;\n",
       "\n",
       "    var toolbar = document.createElement('div');\n",
       "    toolbar.classList = 'btn-toolbar';\n",
       "    this.root.appendChild(toolbar);\n",
       "\n",
       "    function on_click_closure(name) {\n",
       "        return function (_event) {\n",
       "            return fig.toolbar_button_onclick(name);\n",
       "        };\n",
       "    }\n",
       "\n",
       "    function on_mouseover_closure(tooltip) {\n",
       "        return function (event) {\n",
       "            if (!event.currentTarget.disabled) {\n",
       "                return fig.toolbar_button_onmouseover(tooltip);\n",
       "            }\n",
       "        };\n",
       "    }\n",
       "\n",
       "    fig.buttons = {};\n",
       "    var buttonGroup = document.createElement('div');\n",
       "    buttonGroup.classList = 'btn-group';\n",
       "    var button;\n",
       "    for (var toolbar_ind in mpl.toolbar_items) {\n",
       "        var name = mpl.toolbar_items[toolbar_ind][0];\n",
       "        var tooltip = mpl.toolbar_items[toolbar_ind][1];\n",
       "        var image = mpl.toolbar_items[toolbar_ind][2];\n",
       "        var method_name = mpl.toolbar_items[toolbar_ind][3];\n",
       "\n",
       "        if (!name) {\n",
       "            /* Instead of a spacer, we start a new button group. */\n",
       "            if (buttonGroup.hasChildNodes()) {\n",
       "                toolbar.appendChild(buttonGroup);\n",
       "            }\n",
       "            buttonGroup = document.createElement('div');\n",
       "            buttonGroup.classList = 'btn-group';\n",
       "            continue;\n",
       "        }\n",
       "\n",
       "        button = fig.buttons[name] = document.createElement('button');\n",
       "        button.classList = 'btn btn-default';\n",
       "        button.href = '#';\n",
       "        button.title = name;\n",
       "        button.innerHTML = '<i class=\"fa ' + image + ' fa-lg\"></i>';\n",
       "        button.addEventListener('click', on_click_closure(method_name));\n",
       "        button.addEventListener('mouseover', on_mouseover_closure(tooltip));\n",
       "        buttonGroup.appendChild(button);\n",
       "    }\n",
       "\n",
       "    if (buttonGroup.hasChildNodes()) {\n",
       "        toolbar.appendChild(buttonGroup);\n",
       "    }\n",
       "\n",
       "    // Add the status bar.\n",
       "    var status_bar = document.createElement('span');\n",
       "    status_bar.classList = 'mpl-message pull-right';\n",
       "    toolbar.appendChild(status_bar);\n",
       "    this.message = status_bar;\n",
       "\n",
       "    // Add the close button to the window.\n",
       "    var buttongrp = document.createElement('div');\n",
       "    buttongrp.classList = 'btn-group inline pull-right';\n",
       "    button = document.createElement('button');\n",
       "    button.classList = 'btn btn-mini btn-primary';\n",
       "    button.href = '#';\n",
       "    button.title = 'Stop Interaction';\n",
       "    button.innerHTML = '<i class=\"fa fa-power-off icon-remove icon-large\"></i>';\n",
       "    button.addEventListener('click', function (_evt) {\n",
       "        fig.handle_close(fig, {});\n",
       "    });\n",
       "    button.addEventListener(\n",
       "        'mouseover',\n",
       "        on_mouseover_closure('Stop Interaction')\n",
       "    );\n",
       "    buttongrp.appendChild(button);\n",
       "    var titlebar = this.root.querySelector('.ui-dialog-titlebar');\n",
       "    titlebar.insertBefore(buttongrp, titlebar.firstChild);\n",
       "};\n",
       "\n",
       "mpl.figure.prototype._remove_fig_handler = function () {\n",
       "    this.close_ws(this, {});\n",
       "};\n",
       "\n",
       "mpl.figure.prototype._root_extra_style = function (el) {\n",
       "    el.style.boxSizing = 'content-box'; // override notebook setting of border-box.\n",
       "    el.addEventListener('remove', this._remove_fig_handler);\n",
       "};\n",
       "\n",
       "mpl.figure.prototype._canvas_extra_style = function (el) {\n",
       "    // this is important to make the div 'focusable\n",
       "    el.setAttribute('tabindex', 0);\n",
       "    // reach out to IPython and tell the keyboard manager to turn it's self\n",
       "    // off when our div gets focus\n",
       "\n",
       "    // location in version 3\n",
       "    if (IPython.notebook.keyboard_manager) {\n",
       "        IPython.notebook.keyboard_manager.register_events(el);\n",
       "    } else {\n",
       "        // location in version 2\n",
       "        IPython.keyboard_manager.register_events(el);\n",
       "    }\n",
       "};\n",
       "\n",
       "mpl.figure.prototype._key_event_extra = function (event, _name) {\n",
       "    var manager = IPython.notebook.keyboard_manager;\n",
       "    if (!manager) {\n",
       "        manager = IPython.keyboard_manager;\n",
       "    }\n",
       "\n",
       "    // Check for shift+enter\n",
       "    if (event.shiftKey && event.which === 13) {\n",
       "        this.canvas_div.blur();\n",
       "        // select the cell after this one\n",
       "        var index = IPython.notebook.find_cell_index(this.cell_info[0]);\n",
       "        IPython.notebook.select(index + 1);\n",
       "    }\n",
       "};\n",
       "\n",
       "mpl.figure.prototype.handle_save = function (fig, _msg) {\n",
       "    fig.ondownload(fig, null);\n",
       "};\n",
       "\n",
       "mpl.find_output_cell = function (html_output) {\n",
       "    // Return the cell and output element which can be found *uniquely* in the notebook.\n",
       "    // Note - this is a bit hacky, but it is done because the \"notebook_saving.Notebook\"\n",
       "    // IPython event is triggered only after the cells have been serialised, which for\n",
       "    // our purposes (turning an active figure into a static one), is too late.\n",
       "    var cells = IPython.notebook.get_cells();\n",
       "    var ncells = cells.length;\n",
       "    for (var i = 0; i < ncells; i++) {\n",
       "        var cell = cells[i];\n",
       "        if (cell.cell_type === 'code') {\n",
       "            for (var j = 0; j < cell.output_area.outputs.length; j++) {\n",
       "                var data = cell.output_area.outputs[j];\n",
       "                if (data.data) {\n",
       "                    // IPython >= 3 moved mimebundle to data attribute of output\n",
       "                    data = data.data;\n",
       "                }\n",
       "                if (data['text/html'] === html_output) {\n",
       "                    return [cell, data, j];\n",
       "                }\n",
       "            }\n",
       "        }\n",
       "    }\n",
       "};\n",
       "\n",
       "// Register the function which deals with the matplotlib target/channel.\n",
       "// The kernel may be null if the page has been refreshed.\n",
       "if (IPython.notebook.kernel !== null) {\n",
       "    IPython.notebook.kernel.comm_manager.register_target(\n",
       "        'matplotlib',\n",
       "        mpl.mpl_figure_comm\n",
       "    );\n",
       "}\n"
      ],
      "text/plain": [
       "<IPython.core.display.Javascript object>"
      ]
     },
     "metadata": {},
     "output_type": "display_data"
    },
    {
     "data": {
      "text/html": [
       "<img src=\"data:image/png;base64,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\" width=\"640\">"
      ],
      "text/plain": [
       "<IPython.core.display.HTML object>"
      ]
     },
     "metadata": {},
     "output_type": "display_data"
    },
    {
     "data": {
      "text/plain": [
       "Text(0, 0.5, 'number of samples')"
      ]
     },
     "execution_count": 5,
     "metadata": {},
     "output_type": "execute_result"
    }
   ],
   "source": [
    "res=plt.hist(cfs_normalized.sample_metadata['_calour_original_abundance'],50)\n",
    "plt.xlabel('original number of reads')\n",
    "plt.ylabel('number of samples')"
   ]
  },
  {
   "cell_type": "markdown",
   "metadata": {},
   "source": [
    "### load with no normalization\n",
    "we can load the data without normalizing the reads per sample by setting the parameter `normalize=None`\n",
    "\n",
    "This is not recommended for typical microbiome experiments since the number of reads per sample is arbitrary and does not reflect the number of bacteria in the sample.\n",
    "\n",
    "We still chose to remove all samples with less than 1000 reads total."
   ]
  },
  {
   "cell_type": "code",
   "execution_count": 6,
   "metadata": {
    "ExecuteTime": {
     "end_time": "2020-09-11T12:13:22.552325Z",
     "start_time": "2020-09-11T12:13:22.477065Z"
    }
   },
   "outputs": [
    {
     "name": "stdout",
     "output_type": "stream",
     "text": [
      "2020-09-11 20:13:22 INFO loaded 87 samples, 2129 features\n",
      "2020-09-11 20:13:22 WARNING These have metadata but do not have data - dropped (1): {'ERR1331814'}\n",
      "2020-09-11 20:13:22 WARNING Do you forget to normalize your data? It is required before running this function\n",
      "2020-09-11 20:13:22 INFO After filtering, 87 remain.\n"
     ]
    }
   ],
   "source": [
    "cfs_not_normalized=ca.read_amplicon('data/chronic-fatigue-syndrome.biom',\n",
    "                                    'data/chronic-fatigue-syndrome.sample.txt',\n",
    "                                     normalize=None,min_reads=1000)"
   ]
  },
  {
   "cell_type": "code",
   "execution_count": 7,
   "metadata": {
    "ExecuteTime": {
     "end_time": "2020-09-11T12:13:22.802548Z",
     "start_time": "2020-09-11T12:13:22.792926Z"
    }
   },
   "outputs": [
    {
     "data": {
      "text/plain": [
       "array([ 62629.,  96404., 105470.,  50560.,  66414.,  97011.,  77673.,\n",
       "        59655., 100206.,  34044.,  74744., 106959.,  75014.,  64515.,\n",
       "        52549.,  54079.,  41310.,  66931.,  69574.,  70387.,  93480.,\n",
       "        84020.,  40701.,  61849., 119409.,  51815.,  59722.,  47760.,\n",
       "       101434.,  85726.,  72033.,  71608.,  36721., 121576.,  62482.,\n",
       "        68390.,  70886.,  76899.,  47124., 102348., 101551.,  61425.,\n",
       "        68260.,  79580.,  60183.,  78305., 107605., 134027.,  81385.,\n",
       "        79597.,  64939.,  56027.,  64103.,  90476.,  70982., 105850.,\n",
       "        90525.,  92925.,  22203.,  63500.,  64368.,  73568.,  69072.,\n",
       "        89176.,  64426.,  59181., 100251.,  76190.,  84987.,  68514.,\n",
       "        84449.,  80196.,  48256.,  47898.,  55874., 107258., 110218.,\n",
       "        63968.,  94907.,  49032.,  77150.,  89870.,  71017.,  41598.,\n",
       "        89919.,  72977.,  80308.])"
      ]
     },
     "execution_count": 7,
     "metadata": {},
     "output_type": "execute_result"
    }
   ],
   "source": [
    "cfs_not_normalized.get_data(sparse=False).sum(axis=1)"
   ]
  },
  {
   "cell_type": "markdown",
   "metadata": {},
   "source": [
    "## TSS normalization (`normalize`)\n",
    "We can always normalize to constant sum per sample (similar to the `read_amplicon` normaliztion)"
   ]
  },
  {
   "cell_type": "code",
   "execution_count": 8,
   "metadata": {
    "ExecuteTime": {
     "end_time": "2020-09-11T12:13:24.293706Z",
     "start_time": "2020-09-11T12:13:24.287050Z"
    }
   },
   "outputs": [],
   "source": [
    "tt = cfs_not_normalized.normalize(5000)"
   ]
  },
  {
   "cell_type": "code",
   "execution_count": 9,
   "metadata": {
    "ExecuteTime": {
     "end_time": "2020-09-11T12:13:24.591595Z",
     "start_time": "2020-09-11T12:13:24.582719Z"
    }
   },
   "outputs": [
    {
     "data": {
      "text/plain": [
       "array([5000., 5000., 5000., 5000., 5000., 5000., 5000., 5000., 5000.,\n",
       "       5000., 5000., 5000., 5000., 5000., 5000., 5000., 5000., 5000.,\n",
       "       5000., 5000., 5000., 5000., 5000., 5000., 5000., 5000., 5000.,\n",
       "       5000., 5000., 5000., 5000., 5000., 5000., 5000., 5000., 5000.,\n",
       "       5000., 5000., 5000., 5000., 5000., 5000., 5000., 5000., 5000.,\n",
       "       5000., 5000., 5000., 5000., 5000., 5000., 5000., 5000., 5000.,\n",
       "       5000., 5000., 5000., 5000., 5000., 5000., 5000., 5000., 5000.,\n",
       "       5000., 5000., 5000., 5000., 5000., 5000., 5000., 5000., 5000.,\n",
       "       5000., 5000., 5000., 5000., 5000., 5000., 5000., 5000., 5000.,\n",
       "       5000., 5000., 5000., 5000., 5000., 5000.])"
      ]
     },
     "execution_count": 9,
     "metadata": {},
     "output_type": "execute_result"
    }
   ],
   "source": [
    "tt.get_data(sparse=False).sum(axis=1)"
   ]
  },
  {
   "cell_type": "markdown",
   "metadata": {},
   "source": [
    "## Compositional normalization (`normalize_compositional`)\n",
    "In some cases, a plausible biological scenario is that a few bacteria have a very large number of reads. Increase in the frequency of such a bacteria will cause a decrease in the frequencies of all other bacteria (even if in reality their total number remains constant in the sample) since data is normalized to constant sum per sample.\n",
    "\n",
    "Under the assumption that most bacteria do not change in total number between the samples, we can normalize to constant sum when ignoring the set of high frequency bacteria."
   ]
  },
  {
   "cell_type": "markdown",
   "metadata": {},
   "source": [
    "We will demonstrate using a synthetic example:\n",
    "\n",
    "In the original dataset we have a few tens of bacteria separating between healthy and sick"
   ]
  },
  {
   "cell_type": "code",
   "execution_count": 10,
   "metadata": {
    "ExecuteTime": {
     "end_time": "2020-09-11T12:13:26.763780Z",
     "start_time": "2020-09-11T12:13:25.546118Z"
    }
   },
   "outputs": [
    {
     "name": "stdout",
     "output_type": "stream",
     "text": [
      "2020-09-11 20:13:25 INFO 87 samples with both values\n",
      "2020-09-11 20:13:25 INFO After filtering, 2129 remain.\n",
      "2020-09-11 20:13:25 INFO 39 samples with value 1 (['Control'])\n",
      "2020-09-11 20:13:26 INFO number of higher in Control: 36. number of higher in Patient : 14. total 50\n"
     ]
    }
   ],
   "source": [
    "dd=cfs_normalized.diff_abundance('Subject','Control','Patient', random_seed=2018)"
   ]
  },
  {
   "cell_type": "markdown",
   "metadata": {},
   "source": [
    "### Effect of a high frequency artificial bacteria\n",
    "let's make the first bactertia high frequency only in the Healthy (Control) and not in the Sick (Patient).\n",
    "\n",
    "And renormalize to 10000 reads/sample"
   ]
  },
  {
   "cell_type": "code",
   "execution_count": 11,
   "metadata": {
    "ExecuteTime": {
     "end_time": "2020-09-11T12:13:26.770622Z",
     "start_time": "2020-09-11T12:13:26.765119Z"
    }
   },
   "outputs": [],
   "source": [
    "tt=cfs_normalized.copy()\n",
    "tt.sparse=False\n",
    "\n",
    "tt.data[tt.sample_metadata['Subject']=='Control',0] = 50000\n",
    "tt=tt.normalize(10000)"
   ]
  },
  {
   "cell_type": "code",
   "execution_count": 12,
   "metadata": {
    "ExecuteTime": {
     "end_time": "2020-09-11T12:13:27.825003Z",
     "start_time": "2020-09-11T12:13:26.771915Z"
    }
   },
   "outputs": [
    {
     "name": "stdout",
     "output_type": "stream",
     "text": [
      "2020-09-11 20:13:26 INFO 87 samples with both values\n",
      "2020-09-11 20:13:26 INFO After filtering, 2129 remain.\n",
      "2020-09-11 20:13:26 INFO 39 samples with value 1 (['Control'])\n",
      "2020-09-11 20:13:27 INFO number of higher in Control: 28. number of higher in Patient : 67. total 95\n"
     ]
    }
   ],
   "source": [
    "dd=tt.diff_abundance('Subject','Control','Patient', random_seed=2018)"
   ]
  },
  {
   "cell_type": "markdown",
   "metadata": {},
   "source": [
    "We get more bacteria which are higher in 'Patient' since bacteria 0 is now very high in controls, and data is TSS normalized"
   ]
  },
  {
   "cell_type": "markdown",
   "metadata": {},
   "source": [
    "### Let's fix by doing the compositional normalization"
   ]
  },
  {
   "cell_type": "code",
   "execution_count": 13,
   "metadata": {
    "ExecuteTime": {
     "end_time": "2020-09-11T12:13:27.833371Z",
     "start_time": "2020-09-11T12:13:27.826848Z"
    }
   },
   "outputs": [
    {
     "name": "stdout",
     "output_type": "stream",
     "text": [
      "2020-09-11 20:13:27 INFO After filtering, 2 remain.\n",
      "2020-09-11 20:13:27 INFO ignoring 2 features\n"
     ]
    }
   ],
   "source": [
    "yy=tt.normalize_compositional()"
   ]
  },
  {
   "cell_type": "code",
   "execution_count": 14,
   "metadata": {
    "ExecuteTime": {
     "end_time": "2020-09-11T12:13:28.927047Z",
     "start_time": "2020-09-11T12:13:27.834705Z"
    }
   },
   "outputs": [
    {
     "name": "stdout",
     "output_type": "stream",
     "text": [
      "2020-09-11 20:13:27 INFO 87 samples with both values\n",
      "2020-09-11 20:13:27 INFO After filtering, 2129 remain.\n",
      "2020-09-11 20:13:27 INFO 39 samples with value 1 (['Control'])\n",
      "2020-09-11 20:13:28 INFO number of higher in Control: 37. number of higher in Patient : 13. total 50\n"
     ]
    }
   ],
   "source": [
    "dd=yy.diff_abundance('Subject','Control','Patient', random_seed=2018)"
   ]
  },
  {
   "cell_type": "markdown",
   "metadata": {},
   "source": [
    "so we reduced the inflation of false differentially abundant bacteria due to data compositionallity"
   ]
  },
  {
   "cell_type": "markdown",
   "metadata": {},
   "source": [
    "## Normalization on part of the features (`normalize_by_subset_features`)\n",
    "\n",
    "Sometimes we want to normalize while ignoring some features (say ignoring all mitochondrial sequences), but we still want to keep these features - just not use them in the normalization.\n",
    "\n",
    "Note the sum of reads per sample will not be constant (since samples also contain the ignored features)."
   ]
  },
  {
   "cell_type": "markdown",
   "metadata": {},
   "source": [
    "Lets ignore the bacteria that don't have a good taxonomy assignment"
   ]
  },
  {
   "cell_type": "code",
   "execution_count": 15,
   "metadata": {
    "ExecuteTime": {
     "end_time": "2020-09-11T12:13:28.932572Z",
     "start_time": "2020-09-11T12:13:28.928906Z"
    }
   },
   "outputs": [],
   "source": [
    "bad_seqs=[cseq for cseq,ctax in cfs_not_normalized.feature_metadata['taxonomy'].iteritems() if len(ctax)<13]"
   ]
  },
  {
   "cell_type": "code",
   "execution_count": 16,
   "metadata": {
    "ExecuteTime": {
     "end_time": "2020-09-11T12:13:28.937401Z",
     "start_time": "2020-09-11T12:13:28.933701Z"
    }
   },
   "outputs": [],
   "source": [
    "tt = cfs_not_normalized.normalize_by_subset_features(bad_seqs, total=10000)"
   ]
  },
  {
   "cell_type": "code",
   "execution_count": 17,
   "metadata": {
    "ExecuteTime": {
     "end_time": "2020-09-11T12:13:29.081092Z",
     "start_time": "2020-09-11T12:13:29.071857Z"
    }
   },
   "outputs": [
    {
     "data": {
      "text/plain": [
       "array([10000.        , 10000.62241955, 10000.18963098, 10000.39558527,\n",
       "       10000.        , 10004.33128113, 10000.        , 10000.        ,\n",
       "       10000.        , 10000.        , 10001.7395726 , 10001.30908411,\n",
       "       10000.26662401, 10000.        , 10000.        , 10000.        ,\n",
       "       10002.17912399, 10000.        , 10000.        , 10002.55794455,\n",
       "       10000.53490238, 10000.        , 10000.        , 10000.        ,\n",
       "       10000.        , 10000.        , 10001.00475584, 10000.        ,\n",
       "       10000.        , 10000.        , 10000.        , 10000.        ,\n",
       "       10000.        , 10027.30009485, 10013.7829348 , 10000.        ,\n",
       "       10000.        , 10000.        , 10001.48566335, 10000.        ,\n",
       "       10000.        , 10000.        , 10000.        , 10000.25132574,\n",
       "       10000.        , 10000.25541806, 10000.18586842, 10000.44769103,\n",
       "       10000.        , 10000.        , 10000.        , 10000.35698349,\n",
       "       10000.        , 10001.32649452, 10000.        , 10000.        ,\n",
       "       10000.22093833, 10000.64572369, 10002.25245518, 10000.78746358,\n",
       "       10000.        , 10002.58331181, 10000.43434826, 10000.        ,\n",
       "       10000.        , 10001.69001707, 10002.69396552, 10000.26250853,\n",
       "       10003.1779661 , 10000.        , 10000.47368109, 10000.37409749,\n",
       "       10002.28002902, 10000.        , 10000.        , 10000.        ,\n",
       "       10000.27219525, 10000.        , 10040.20015445, 10000.        ,\n",
       "       10000.        , 10000.33382665, 10000.        , 10000.96167716,\n",
       "       10000.        , 10000.95929834, 10000.        ])"
      ]
     },
     "execution_count": 17,
     "metadata": {},
     "output_type": "execute_result"
    }
   ],
   "source": [
    "tt.get_data(sparse=False).sum(axis=1)"
   ]
  },
  {
   "cell_type": "code",
   "execution_count": null,
   "metadata": {},
   "outputs": [],
   "source": []
  }
 ],
 "metadata": {
  "kernelspec": {
   "display_name": "calour",
   "language": "python",
   "name": "calour"
  },
  "language_info": {
   "codemirror_mode": {
    "name": "ipython",
    "version": 3
   },
   "file_extension": ".py",
   "mimetype": "text/x-python",
   "name": "python",
   "nbconvert_exporter": "python",
   "pygments_lexer": "ipython3",
   "version": "3.8.5"
  },
  "toc": {
   "base_numbering": 1,
   "nav_menu": {},
   "number_sections": true,
   "sideBar": true,
   "skip_h1_title": false,
   "title_cell": "Table of Contents",
   "title_sidebar": "Contents",
   "toc_cell": false,
   "toc_position": {},
   "toc_section_display": true,
   "toc_window_display": false
  }
 },
 "nbformat": 4,
 "nbformat_minor": 2
}
