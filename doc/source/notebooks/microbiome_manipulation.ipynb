{
 "cells": [
  {
   "cell_type": "markdown",
   "metadata": {},
   "source": [
    "# Microbiome data manipulation tutorial\n",
    "This is a jupyter notebook example of how to sort, filter and handle sample metadata"
   ]
  },
  {
   "cell_type": "markdown",
   "metadata": {},
   "source": [
    "## Setup"
   ]
  },
  {
   "cell_type": "code",
   "execution_count": 1,
   "metadata": {
    "ExecuteTime": {
     "end_time": "2020-09-11T13:09:57.471980Z",
     "start_time": "2020-09-11T13:09:54.882107Z"
    }
   },
   "outputs": [],
   "source": [
    "import calour as ca\n",
    "ca.set_log_level(11)\n",
    "%matplotlib notebook"
   ]
  },
  {
   "cell_type": "markdown",
   "metadata": {},
   "source": [
    "## Load the data\n",
    "we use two datasets:"
   ]
  },
  {
   "cell_type": "markdown",
   "metadata": {},
   "source": [
    "the Chronic faitigue syndrome data from:\n",
    "\n",
    "Giloteaux, L., Goodrich, J.K., Walters, W.A., Levine, S.M., Ley, R.E. and Hanson, M.R., 2016.\n",
    "\n",
    "Reduced diversity and altered composition of the gut microbiome in individuals with myalgic encephalomyelitis/chronic fatigue syndrome.\n",
    "\n",
    "Microbiome, 4(1), p.30."
   ]
  },
  {
   "cell_type": "code",
   "execution_count": 2,
   "metadata": {
    "ExecuteTime": {
     "end_time": "2020-09-11T13:09:57.596665Z",
     "start_time": "2020-09-11T13:09:57.473590Z"
    }
   },
   "outputs": [
    {
     "name": "stdout",
     "output_type": "stream",
     "text": [
      "2020-09-11 21:09:57 INFO loaded 87 samples, 2129 features\n",
      "2020-09-11 21:09:57 WARNING These have metadata but do not have data - dropped (1): {'ERR1331814'}\n",
      "2020-09-11 21:09:57 WARNING Do you forget to normalize your data? It is required before running this function\n",
      "2020-09-11 21:09:57 INFO After filtering, 87 remain.\n"
     ]
    }
   ],
   "source": [
    "cfs=ca.read_amplicon('data/chronic-fatigue-syndrome.biom',\n",
    "                     'data/chronic-fatigue-syndrome.sample.txt',\n",
    "                     normalize=10000,min_reads=1000)"
   ]
  },
  {
   "cell_type": "code",
   "execution_count": 3,
   "metadata": {
    "ExecuteTime": {
     "end_time": "2020-09-11T13:09:57.605171Z",
     "start_time": "2020-09-11T13:09:57.600591Z"
    }
   },
   "outputs": [
    {
     "name": "stdout",
     "output_type": "stream",
     "text": [
      "AmpliconExperiment with 87 samples, 2129 features\n"
     ]
    }
   ],
   "source": [
    "print(cfs)"
   ]
  },
  {
   "cell_type": "markdown",
   "metadata": {},
   "source": [
    "Moving pictures dataset. from:\n",
    "\n",
    "Caporaso, J.G., Lauber, C.L., Costello, E.K., Berg-Lyons, D., Gonzalez, A., Stombaugh, J., Knights, D., Gajer, P., Ravel, J., Fierer, N. and Gordon, J.I., 2011.\n",
    "\n",
    "Moving pictures of the human microbiome.\n",
    "\n",
    "Genome biology, 12(5), p.R50."
   ]
  },
  {
   "cell_type": "code",
   "execution_count": 4,
   "metadata": {
    "ExecuteTime": {
     "end_time": "2020-09-11T13:09:58.115029Z",
     "start_time": "2020-09-11T13:09:57.608402Z"
    }
   },
   "outputs": [
    {
     "name": "stdout",
     "output_type": "stream",
     "text": [
      "2020-09-11 21:09:57 INFO loaded 1968 samples, 7056 features\n",
      "2020-09-11 21:09:58 WARNING Do you forget to normalize your data? It is required before running this function\n",
      "2020-09-11 21:09:58 INFO After filtering, 1967 remain.\n"
     ]
    }
   ],
   "source": [
    "movpic=ca.read_amplicon('data/moving_pic.biom',\n",
    "                     'data/moving_pic.sample.txt',\n",
    "                     normalize=10000,min_reads=1000)"
   ]
  },
  {
   "cell_type": "code",
   "execution_count": 5,
   "metadata": {
    "ExecuteTime": {
     "end_time": "2020-09-11T13:09:58.118664Z",
     "start_time": "2020-09-11T13:09:58.116436Z"
    }
   },
   "outputs": [
    {
     "name": "stdout",
     "output_type": "stream",
     "text": [
      "AmpliconExperiment with 1967 samples, 7056 features\n"
     ]
    }
   ],
   "source": [
    "print(movpic)"
   ]
  },
  {
   "cell_type": "markdown",
   "metadata": {},
   "source": [
    "## sorting the samples based on a metadata field (`sort_samples`)\n",
    "Sort the samples of the experiment based on the values in the given field."
   ]
  },
  {
   "cell_type": "markdown",
   "metadata": {},
   "source": [
    "is the original data sorted by the Subject field?"
   ]
  },
  {
   "cell_type": "code",
   "execution_count": 6,
   "metadata": {
    "ExecuteTime": {
     "end_time": "2020-09-11T13:09:58.123772Z",
     "start_time": "2020-09-11T13:09:58.119749Z"
    }
   },
   "outputs": [
    {
     "name": "stdout",
     "output_type": "stream",
     "text": [
      "False\n"
     ]
    }
   ],
   "source": [
    "print(cfs.sample_metadata['Subject'].is_monotonic_increasing)"
   ]
  },
  {
   "cell_type": "code",
   "execution_count": 7,
   "metadata": {
    "ExecuteTime": {
     "end_time": "2020-09-11T13:09:58.133256Z",
     "start_time": "2020-09-11T13:09:58.126414Z"
    }
   },
   "outputs": [],
   "source": [
    "cfs=cfs.sort_samples('Subject')"
   ]
  },
  {
   "cell_type": "markdown",
   "metadata": {},
   "source": [
    "and is the new data sorted?"
   ]
  },
  {
   "cell_type": "code",
   "execution_count": 8,
   "metadata": {
    "ExecuteTime": {
     "end_time": "2020-09-11T13:09:58.141450Z",
     "start_time": "2020-09-11T13:09:58.136055Z"
    }
   },
   "outputs": [
    {
     "name": "stdout",
     "output_type": "stream",
     "text": [
      "True\n"
     ]
    }
   ],
   "source": [
    "print(cfs.sample_metadata['Subject'].is_monotonic_increasing)"
   ]
  },
  {
   "cell_type": "markdown",
   "metadata": {},
   "source": [
    "### consecutive sorting using different fields\n",
    "Keeps the order of the previous fields if values for the new field are tied."
   ]
  },
  {
   "cell_type": "markdown",
   "metadata": {},
   "source": [
    "For the moving pictures dataset, we want the data to be sorted by individual, and within each individual to be sorted by timepoint"
   ]
  },
  {
   "cell_type": "code",
   "execution_count": 9,
   "metadata": {
    "ExecuteTime": {
     "end_time": "2020-09-11T13:09:58.169399Z",
     "start_time": "2020-09-11T13:09:58.145230Z"
    }
   },
   "outputs": [],
   "source": [
    "movpic=movpic.sort_samples('DAYS_SINCE_EXPERIMENT_START')\n",
    "movpic=movpic.sort_samples('HOST_SUBJECT_ID')"
   ]
  },
  {
   "cell_type": "code",
   "execution_count": 10,
   "metadata": {
    "ExecuteTime": {
     "end_time": "2020-09-11T13:09:58.173219Z",
     "start_time": "2020-09-11T13:09:58.170672Z"
    }
   },
   "outputs": [
    {
     "name": "stdout",
     "output_type": "stream",
     "text": [
      "False\n"
     ]
    }
   ],
   "source": [
    "print(movpic.sample_metadata['DAYS_SINCE_EXPERIMENT_START'].is_monotonic_increasing)"
   ]
  },
  {
   "cell_type": "code",
   "execution_count": 11,
   "metadata": {
    "ExecuteTime": {
     "end_time": "2020-09-11T13:09:58.176722Z",
     "start_time": "2020-09-11T13:09:58.174215Z"
    }
   },
   "outputs": [
    {
     "name": "stdout",
     "output_type": "stream",
     "text": [
      "True\n"
     ]
    }
   ],
   "source": [
    "print(movpic.sample_metadata['HOST_SUBJECT_ID'].is_monotonic_increasing)"
   ]
  },
  {
   "cell_type": "markdown",
   "metadata": {},
   "source": [
    "## filter samples based on metadata field (`filter_samples`)\n",
    "Keep only samples matching the values we supply for the selected metadata field."
   ]
  },
  {
   "cell_type": "markdown",
   "metadata": {},
   "source": [
    "lets keep only samples from participant F4"
   ]
  },
  {
   "cell_type": "code",
   "execution_count": 12,
   "metadata": {
    "ExecuteTime": {
     "end_time": "2020-09-11T13:09:58.181964Z",
     "start_time": "2020-09-11T13:09:58.177747Z"
    }
   },
   "outputs": [
    {
     "name": "stdout",
     "output_type": "stream",
     "text": [
      "* original:\n",
      "AmpliconExperiment with 1967 samples, 7056 features\n",
      "\n",
      "* filtered:\n",
      "AmpliconExperiment with 534 samples, 7056 features\n"
     ]
    }
   ],
   "source": [
    "tt=movpic.filter_samples('HOST_SUBJECT_ID','F4')\n",
    "print('* original:\\n%s\\n\\n* filtered:\\n%s' % (movpic, tt))"
   ]
  },
  {
   "cell_type": "markdown",
   "metadata": {},
   "source": [
    "### we can supply a list of values instead of only one value"
   ]
  },
  {
   "cell_type": "markdown",
   "metadata": {},
   "source": [
    "now lets only keep skin and fecal samples"
   ]
  },
  {
   "cell_type": "code",
   "execution_count": 13,
   "metadata": {
    "ExecuteTime": {
     "end_time": "2020-09-11T13:09:58.185522Z",
     "start_time": "2020-09-11T13:09:58.183017Z"
    }
   },
   "outputs": [
    {
     "name": "stdout",
     "output_type": "stream",
     "text": [
      "['UBERON:skin' 'UBERON:feces' 'UBERON:oral cavity']\n"
     ]
    }
   ],
   "source": [
    "print(movpic.sample_metadata['BODY_HABITAT'].unique())"
   ]
  },
  {
   "cell_type": "code",
   "execution_count": 14,
   "metadata": {
    "ExecuteTime": {
     "end_time": "2020-09-11T13:09:58.190285Z",
     "start_time": "2020-09-11T13:09:58.186492Z"
    }
   },
   "outputs": [
    {
     "name": "stdout",
     "output_type": "stream",
     "text": [
      "AmpliconExperiment with 399 samples, 7056 features\n"
     ]
    }
   ],
   "source": [
    "yy=tt.filter_samples('BODY_HABITAT', ['UBERON:skin', 'UBERON:feces'])\n",
    "print(yy)"
   ]
  },
  {
   "cell_type": "markdown",
   "metadata": {},
   "source": [
    "### we can also reverse the filtering (removing samples with the supplied values)\n",
    "We use the `negate=True` parameter"
   ]
  },
  {
   "cell_type": "markdown",
   "metadata": {},
   "source": [
    "let's keep just the non-skin and non-feces samples"
   ]
  },
  {
   "cell_type": "code",
   "execution_count": 15,
   "metadata": {
    "ExecuteTime": {
     "end_time": "2020-09-11T13:09:58.195200Z",
     "start_time": "2020-09-11T13:09:58.191413Z"
    }
   },
   "outputs": [
    {
     "name": "stdout",
     "output_type": "stream",
     "text": [
      "AmpliconExperiment with 135 samples, 7056 features\n"
     ]
    }
   ],
   "source": [
    "yy=tt.filter_samples('BODY_HABITAT', ['UBERON:skin', 'UBERON:feces'], negate=True)\n",
    "print(yy)"
   ]
  },
  {
   "cell_type": "markdown",
   "metadata": {
    "collapsed": true
   },
   "source": [
    "## filter low abundance features (`filter_abundance`)\n",
    "Remove all features (bacteria) with < 10 reads total (summed over all samples, after normalization).\n",
    "\n",
    "This is useful for getting rid of non-interesting features. Note that differently from filtering based of fraction of samples where feature is present (`filter_prevalence`), this method (`filter_abundance`) will also keep features present in a small fraction of the samples, but in high frequency."
   ]
  },
  {
   "cell_type": "code",
   "execution_count": 16,
   "metadata": {
    "ExecuteTime": {
     "end_time": "2020-09-11T13:09:58.201506Z",
     "start_time": "2020-09-11T13:09:58.196201Z"
    }
   },
   "outputs": [
    {
     "name": "stdout",
     "output_type": "stream",
     "text": [
      "2020-09-11 21:09:58 INFO After filtering, 766 remain.\n",
      "* original:\n",
      "AmpliconExperiment with 87 samples, 2129 features\n",
      "\n",
      "* filtered:\n",
      "AmpliconExperiment with 87 samples, 766 features\n"
     ]
    }
   ],
   "source": [
    "tt=cfs.filter_sum_abundance(25)\n",
    "print('* original:\\n%s\\n\\n* filtered:\\n%s' % (cfs, tt))"
   ]
  },
  {
   "cell_type": "markdown",
   "metadata": {},
   "source": [
    "## filter non-common bacteria (`filter_prevalence`)\n",
    "Remove bacteria based on fraction of the samples where this bacteria is present."
   ]
  },
  {
   "cell_type": "code",
   "execution_count": 17,
   "metadata": {
    "ExecuteTime": {
     "end_time": "2020-09-11T13:09:58.207686Z",
     "start_time": "2020-09-11T13:09:58.202639Z"
    }
   },
   "outputs": [
    {
     "name": "stdout",
     "output_type": "stream",
     "text": [
      "2020-09-11 21:09:58 INFO After filtering, 65 remain.\n",
      "* original:\n",
      "AmpliconExperiment with 87 samples, 2129 features\n",
      "\n",
      "* filtered:\n",
      "AmpliconExperiment with 87 samples, 65 features\n"
     ]
    }
   ],
   "source": [
    "# remove bacteria present in less than half of the samples\n",
    "tt=cfs.filter_prevalence(0.5)\n",
    "print('* original:\\n%s\\n\\n* filtered:\\n%s' % (cfs, tt))"
   ]
  },
  {
   "cell_type": "markdown",
   "metadata": {},
   "source": [
    "## Filter bacteria based on the mean frequency over all samples (`filter_mean`)\n",
    "Remove bacteria which have a mean (over all samples) lower than the desired threshold."
   ]
  },
  {
   "cell_type": "code",
   "execution_count": 18,
   "metadata": {
    "ExecuteTime": {
     "end_time": "2020-09-11T13:09:58.213717Z",
     "start_time": "2020-09-11T13:09:58.208736Z"
    }
   },
   "outputs": [
    {
     "name": "stdout",
     "output_type": "stream",
     "text": [
      "2020-09-11 21:09:58 INFO After filtering, 19 remain.\n",
      "* original:\n",
      "AmpliconExperiment with 87 samples, 2129 features\n",
      "\n",
      "* filtered:\n",
      "AmpliconExperiment with 87 samples, 19 features\n"
     ]
    }
   ],
   "source": [
    "# keep only high frequency bacteria (mean over all samples > 1%)\n",
    "tt=cfs.filter_mean_abundance(0.01)\n",
    "print('* original:\\n%s\\n\\n* filtered:\\n%s' % (cfs, tt))"
   ]
  },
  {
   "cell_type": "code",
   "execution_count": null,
   "metadata": {},
   "outputs": [],
   "source": []
  }
 ],
 "metadata": {
  "kernelspec": {
   "display_name": "calour",
   "language": "python",
   "name": "calour"
  },
  "language_info": {
   "codemirror_mode": {
    "name": "ipython",
    "version": 3
   },
   "file_extension": ".py",
   "mimetype": "text/x-python",
   "name": "python",
   "nbconvert_exporter": "python",
   "pygments_lexer": "ipython3",
   "version": "3.8.5"
  },
  "toc": {
   "base_numbering": 1,
   "nav_menu": {},
   "number_sections": true,
   "sideBar": true,
   "skip_h1_title": false,
   "title_cell": "Table of Contents",
   "title_sidebar": "Contents",
   "toc_cell": false,
   "toc_position": {},
   "toc_section_display": true,
   "toc_window_display": false
  }
 },
 "nbformat": 4,
 "nbformat_minor": 2
}
