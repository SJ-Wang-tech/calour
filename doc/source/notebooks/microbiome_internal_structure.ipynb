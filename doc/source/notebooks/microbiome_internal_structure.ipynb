{
 "cells": [
  {
   "cell_type": "markdown",
   "metadata": {},
   "source": [
    "# Calour Experiment class tutorial\n",
    "Learn about how calour stores the data of an experiment"
   ]
  },
  {
   "cell_type": "markdown",
   "metadata": {},
   "source": [
    "## Setup"
   ]
  },
  {
   "cell_type": "code",
   "execution_count": 1,
   "metadata": {
    "ExecuteTime": {
     "end_time": "2020-09-11T12:15:23.427652Z",
     "start_time": "2020-09-11T12:15:20.595711Z"
    }
   },
   "outputs": [],
   "source": [
    "import calour as ca\n",
    "ca.set_log_level(11)\n",
    "import numpy as np\n",
    "import matplotlib.pyplot as plt\n",
    "%matplotlib notebook"
   ]
  },
  {
   "cell_type": "markdown",
   "metadata": {},
   "source": [
    "## Load the data\n",
    "we use the chronic fatigue syndrome data from:\n",
    "\n",
    "Giloteaux, L., Goodrich, J.K., Walters, W.A., Levine, S.M., Ley, R.E. and Hanson, M.R., 2016.\n",
    "\n",
    "Reduced diversity and altered composition of the gut microbiome in individuals with myalgic encephalomyelitis/chronic fatigue syndrome.\n",
    "\n",
    "Microbiome, 4(1), p.30."
   ]
  },
  {
   "cell_type": "code",
   "execution_count": 2,
   "metadata": {
    "ExecuteTime": {
     "end_time": "2020-09-11T12:15:24.353864Z",
     "start_time": "2020-09-11T12:15:24.224290Z"
    }
   },
   "outputs": [
    {
     "name": "stdout",
     "output_type": "stream",
     "text": [
      "2020-09-11 20:15:24 INFO loaded 87 samples, 2129 features\n",
      "2020-09-11 20:15:24 WARNING These have metadata but do not have data - dropped (1): {'ERR1331814'}\n",
      "2020-09-11 20:15:24 WARNING Do you forget to normalize your data? It is required before running this function\n",
      "2020-09-11 20:15:24 INFO After filtering, 87 remain.\n"
     ]
    }
   ],
   "source": [
    "cfs=ca.read_amplicon('data/chronic-fatigue-syndrome.biom',\n",
    "                     'data/chronic-fatigue-syndrome.sample.txt',\n",
    "                     normalize=10000,min_reads=1000)"
   ]
  },
  {
   "cell_type": "markdown",
   "metadata": {},
   "source": [
    "## The `Experiment` class\n",
    "Calour stores the experiment as two Pandas.DataFrame (for sample_metadata and feature_metadata) and a (sparse or dense) data matrix.\n",
    "\n",
    "The order in the dataframes and the table is synchronized, so entry number X in the sample_metadata dataframe always corresponds to row X in the data matrix (and similarily entry Y in the feature_metadata always corresponds to column Y in the data matrix)."
   ]
  },
  {
   "cell_type": "markdown",
   "metadata": {
    "collapsed": true
   },
   "source": [
    "## The \\__repr__ of the Experiment\n",
    "Contains the class (in our case - ca.AmpliconExperiment - which is derived from ca.Experiment),\n",
    "\n",
    "the original biom table filename,\n",
    "\n",
    "and how many samples and features does it have."
   ]
  },
  {
   "cell_type": "code",
   "execution_count": 3,
   "metadata": {
    "ExecuteTime": {
     "end_time": "2020-09-11T12:15:25.754918Z",
     "start_time": "2020-09-11T12:15:25.750045Z"
    }
   },
   "outputs": [
    {
     "name": "stdout",
     "output_type": "stream",
     "text": [
      "AmpliconExperiment with 87 samples, 2129 features\n"
     ]
    }
   ],
   "source": [
    "print(cfs)"
   ]
  },
  {
   "cell_type": "markdown",
   "metadata": {},
   "source": [
    "## The per-sample metadata (`Experiment.sample_metadata`)\n",
    "This is a Pandas.DataFrame, with the index being the SampleID, and columns for the sample metadata fields (loaded from the mapping file).\n",
    "\n",
    "Note that Calour also added the \"_calour_original_abundance\" field"
   ]
  },
  {
   "cell_type": "code",
   "execution_count": 4,
   "metadata": {
    "ExecuteTime": {
     "end_time": "2020-09-11T12:15:29.957422Z",
     "start_time": "2020-09-11T12:15:29.875555Z"
    }
   },
   "outputs": [
    {
     "data": {
      "text/html": [
       "<div>\n",
       "<style scoped>\n",
       "    .dataframe tbody tr th:only-of-type {\n",
       "        vertical-align: middle;\n",
       "    }\n",
       "\n",
       "    .dataframe tbody tr th {\n",
       "        vertical-align: top;\n",
       "    }\n",
       "\n",
       "    .dataframe thead th {\n",
       "        text-align: right;\n",
       "    }\n",
       "</style>\n",
       "<table border=\"1\" class=\"dataframe\">\n",
       "  <thead>\n",
       "    <tr style=\"text-align: right;\">\n",
       "      <th></th>\n",
       "      <th>BioSample_s</th>\n",
       "      <th>Experiment_s</th>\n",
       "      <th>MBases_l</th>\n",
       "      <th>MBytes_l</th>\n",
       "      <th>Run_s</th>\n",
       "      <th>SRA_Sample_s</th>\n",
       "      <th>Sample_Name_s</th>\n",
       "      <th>Assay_Type_s</th>\n",
       "      <th>AssemblyName_s</th>\n",
       "      <th>BioProject_s</th>\n",
       "      <th>...</th>\n",
       "      <th>Subject</th>\n",
       "      <th>Emotional_well_being</th>\n",
       "      <th>Role_physical</th>\n",
       "      <th>Bell</th>\n",
       "      <th>Physical_functioning</th>\n",
       "      <th>Pain</th>\n",
       "      <th>Age</th>\n",
       "      <th>BMI</th>\n",
       "      <th>_sample_id</th>\n",
       "      <th>_calour_original_abundance</th>\n",
       "    </tr>\n",
       "    <tr>\n",
       "      <th>#SampleID</th>\n",
       "      <th></th>\n",
       "      <th></th>\n",
       "      <th></th>\n",
       "      <th></th>\n",
       "      <th></th>\n",
       "      <th></th>\n",
       "      <th></th>\n",
       "      <th></th>\n",
       "      <th></th>\n",
       "      <th></th>\n",
       "      <th></th>\n",
       "      <th></th>\n",
       "      <th></th>\n",
       "      <th></th>\n",
       "      <th></th>\n",
       "      <th></th>\n",
       "      <th></th>\n",
       "      <th></th>\n",
       "      <th></th>\n",
       "      <th></th>\n",
       "      <th></th>\n",
       "    </tr>\n",
       "  </thead>\n",
       "  <tbody>\n",
       "    <tr>\n",
       "      <th>ERR1331798</th>\n",
       "      <td>SAMEA3904128</td>\n",
       "      <td>ERX1403418</td>\n",
       "      <td>43</td>\n",
       "      <td>29</td>\n",
       "      <td>ERR1331798</td>\n",
       "      <td>ERS1091262</td>\n",
       "      <td>LR16</td>\n",
       "      <td>AMPLICON</td>\n",
       "      <td>&lt;not provided&gt;</td>\n",
       "      <td>PRJEB13092</td>\n",
       "      <td>...</td>\n",
       "      <td>Patient</td>\n",
       "      <td>72.0</td>\n",
       "      <td>0.0</td>\n",
       "      <td>20.0</td>\n",
       "      <td>75.0</td>\n",
       "      <td>23.0</td>\n",
       "      <td>50</td>\n",
       "      <td>37.59</td>\n",
       "      <td>ERR1331798</td>\n",
       "      <td>62629.0</td>\n",
       "    </tr>\n",
       "    <tr>\n",
       "      <th>ERR1331812</th>\n",
       "      <td>SAMEA3904142</td>\n",
       "      <td>ERX1403432</td>\n",
       "      <td>77</td>\n",
       "      <td>54</td>\n",
       "      <td>ERR1331812</td>\n",
       "      <td>ERS1091276</td>\n",
       "      <td>LR72</td>\n",
       "      <td>AMPLICON</td>\n",
       "      <td>&lt;not provided&gt;</td>\n",
       "      <td>PRJEB13092</td>\n",
       "      <td>...</td>\n",
       "      <td>Patient</td>\n",
       "      <td>56.0</td>\n",
       "      <td>NaN</td>\n",
       "      <td>30.0</td>\n",
       "      <td>60.0</td>\n",
       "      <td>68.0</td>\n",
       "      <td>64</td>\n",
       "      <td>22.85</td>\n",
       "      <td>ERR1331812</td>\n",
       "      <td>96404.0</td>\n",
       "    </tr>\n",
       "    <tr>\n",
       "      <th>ERR1331836</th>\n",
       "      <td>SAMEA3904166</td>\n",
       "      <td>ERX1403456</td>\n",
       "      <td>83</td>\n",
       "      <td>56</td>\n",
       "      <td>ERR1331836</td>\n",
       "      <td>ERS1091300</td>\n",
       "      <td>LR42</td>\n",
       "      <td>AMPLICON</td>\n",
       "      <td>&lt;not provided&gt;</td>\n",
       "      <td>PRJEB13092</td>\n",
       "      <td>...</td>\n",
       "      <td>Control</td>\n",
       "      <td>NaN</td>\n",
       "      <td>NaN</td>\n",
       "      <td>NaN</td>\n",
       "      <td>NaN</td>\n",
       "      <td>NaN</td>\n",
       "      <td>35</td>\n",
       "      <td>30.66</td>\n",
       "      <td>ERR1331836</td>\n",
       "      <td>105470.0</td>\n",
       "    </tr>\n",
       "    <tr>\n",
       "      <th>ERR1331831</th>\n",
       "      <td>SAMEA3904161</td>\n",
       "      <td>ERX1403451</td>\n",
       "      <td>38</td>\n",
       "      <td>26</td>\n",
       "      <td>ERR1331831</td>\n",
       "      <td>ERS1091295</td>\n",
       "      <td>IC10</td>\n",
       "      <td>AMPLICON</td>\n",
       "      <td>&lt;not provided&gt;</td>\n",
       "      <td>PRJEB13092</td>\n",
       "      <td>...</td>\n",
       "      <td>Control</td>\n",
       "      <td>NaN</td>\n",
       "      <td>NaN</td>\n",
       "      <td>NaN</td>\n",
       "      <td>NaN</td>\n",
       "      <td>NaN</td>\n",
       "      <td>45</td>\n",
       "      <td>22.24</td>\n",
       "      <td>ERR1331831</td>\n",
       "      <td>50560.0</td>\n",
       "    </tr>\n",
       "    <tr>\n",
       "      <th>ERR1331815</th>\n",
       "      <td>SAMEA3904145</td>\n",
       "      <td>ERX1403435</td>\n",
       "      <td>49</td>\n",
       "      <td>33</td>\n",
       "      <td>ERR1331815</td>\n",
       "      <td>ERS1091279</td>\n",
       "      <td>LR75</td>\n",
       "      <td>AMPLICON</td>\n",
       "      <td>&lt;not provided&gt;</td>\n",
       "      <td>PRJEB13092</td>\n",
       "      <td>...</td>\n",
       "      <td>Patient</td>\n",
       "      <td>NaN</td>\n",
       "      <td>NaN</td>\n",
       "      <td>NaN</td>\n",
       "      <td>NaN</td>\n",
       "      <td>NaN</td>\n",
       "      <td>41</td>\n",
       "      <td>32.30</td>\n",
       "      <td>ERR1331815</td>\n",
       "      <td>66414.0</td>\n",
       "    </tr>\n",
       "    <tr>\n",
       "      <th>...</th>\n",
       "      <td>...</td>\n",
       "      <td>...</td>\n",
       "      <td>...</td>\n",
       "      <td>...</td>\n",
       "      <td>...</td>\n",
       "      <td>...</td>\n",
       "      <td>...</td>\n",
       "      <td>...</td>\n",
       "      <td>...</td>\n",
       "      <td>...</td>\n",
       "      <td>...</td>\n",
       "      <td>...</td>\n",
       "      <td>...</td>\n",
       "      <td>...</td>\n",
       "      <td>...</td>\n",
       "      <td>...</td>\n",
       "      <td>...</td>\n",
       "      <td>...</td>\n",
       "      <td>...</td>\n",
       "      <td>...</td>\n",
       "      <td>...</td>\n",
       "    </tr>\n",
       "    <tr>\n",
       "      <th>ERR1331818</th>\n",
       "      <td>SAMEA3904148</td>\n",
       "      <td>ERX1403438</td>\n",
       "      <td>54</td>\n",
       "      <td>38</td>\n",
       "      <td>ERR1331818</td>\n",
       "      <td>ERS1091282</td>\n",
       "      <td>IC04</td>\n",
       "      <td>AMPLICON</td>\n",
       "      <td>&lt;not provided&gt;</td>\n",
       "      <td>PRJEB13092</td>\n",
       "      <td>...</td>\n",
       "      <td>Control</td>\n",
       "      <td>NaN</td>\n",
       "      <td>NaN</td>\n",
       "      <td>NaN</td>\n",
       "      <td>NaN</td>\n",
       "      <td>NaN</td>\n",
       "      <td>32</td>\n",
       "      <td>32.98</td>\n",
       "      <td>ERR1331818</td>\n",
       "      <td>71017.0</td>\n",
       "    </tr>\n",
       "    <tr>\n",
       "      <th>ERR1331792</th>\n",
       "      <td>SAMEA3904122</td>\n",
       "      <td>ERX1403412</td>\n",
       "      <td>32</td>\n",
       "      <td>22</td>\n",
       "      <td>ERR1331792</td>\n",
       "      <td>ERS1091256</td>\n",
       "      <td>LR09</td>\n",
       "      <td>AMPLICON</td>\n",
       "      <td>&lt;not provided&gt;</td>\n",
       "      <td>PRJEB13092</td>\n",
       "      <td>...</td>\n",
       "      <td>Control</td>\n",
       "      <td>24.0</td>\n",
       "      <td>100.0</td>\n",
       "      <td>90.0</td>\n",
       "      <td>80.0</td>\n",
       "      <td>65.0</td>\n",
       "      <td>43</td>\n",
       "      <td>22.14</td>\n",
       "      <td>ERR1331792</td>\n",
       "      <td>41598.0</td>\n",
       "    </tr>\n",
       "    <tr>\n",
       "      <th>ERR1331857</th>\n",
       "      <td>SAMEA3904187</td>\n",
       "      <td>ERX1403477</td>\n",
       "      <td>61</td>\n",
       "      <td>42</td>\n",
       "      <td>ERR1331857</td>\n",
       "      <td>ERS1091321</td>\n",
       "      <td>IC8</td>\n",
       "      <td>AMPLICON</td>\n",
       "      <td>&lt;not provided&gt;</td>\n",
       "      <td>PRJEB13092</td>\n",
       "      <td>...</td>\n",
       "      <td>Control</td>\n",
       "      <td>NaN</td>\n",
       "      <td>NaN</td>\n",
       "      <td>NaN</td>\n",
       "      <td>NaN</td>\n",
       "      <td>NaN</td>\n",
       "      <td>53</td>\n",
       "      <td>29.02</td>\n",
       "      <td>ERR1331857</td>\n",
       "      <td>89919.0</td>\n",
       "    </tr>\n",
       "    <tr>\n",
       "      <th>ERR1331850</th>\n",
       "      <td>SAMEA3904180</td>\n",
       "      <td>ERX1403470</td>\n",
       "      <td>54</td>\n",
       "      <td>36</td>\n",
       "      <td>ERR1331850</td>\n",
       "      <td>ERS1091314</td>\n",
       "      <td>LR28</td>\n",
       "      <td>AMPLICON</td>\n",
       "      <td>&lt;not provided&gt;</td>\n",
       "      <td>PRJEB13092</td>\n",
       "      <td>...</td>\n",
       "      <td>Control</td>\n",
       "      <td>60.0</td>\n",
       "      <td>75.0</td>\n",
       "      <td>NaN</td>\n",
       "      <td>80.0</td>\n",
       "      <td>90.0</td>\n",
       "      <td>50</td>\n",
       "      <td>29.65</td>\n",
       "      <td>ERR1331850</td>\n",
       "      <td>72977.0</td>\n",
       "    </tr>\n",
       "    <tr>\n",
       "      <th>ERR1331795</th>\n",
       "      <td>SAMEA3904125</td>\n",
       "      <td>ERX1403415</td>\n",
       "      <td>56</td>\n",
       "      <td>38</td>\n",
       "      <td>ERR1331795</td>\n",
       "      <td>ERS1091259</td>\n",
       "      <td>LR18</td>\n",
       "      <td>AMPLICON</td>\n",
       "      <td>&lt;not provided&gt;</td>\n",
       "      <td>PRJEB13092</td>\n",
       "      <td>...</td>\n",
       "      <td>Patient</td>\n",
       "      <td>88.0</td>\n",
       "      <td>0.0</td>\n",
       "      <td>20.0</td>\n",
       "      <td>55.0</td>\n",
       "      <td>55.0</td>\n",
       "      <td>62</td>\n",
       "      <td>24.39</td>\n",
       "      <td>ERR1331795</td>\n",
       "      <td>80308.0</td>\n",
       "    </tr>\n",
       "  </tbody>\n",
       "</table>\n",
       "<p>87 rows × 60 columns</p>\n",
       "</div>"
      ],
      "text/plain": [
       "             BioSample_s Experiment_s  MBases_l  MBytes_l       Run_s  \\\n",
       "#SampleID                                                               \n",
       "ERR1331798  SAMEA3904128   ERX1403418        43        29  ERR1331798   \n",
       "ERR1331812  SAMEA3904142   ERX1403432        77        54  ERR1331812   \n",
       "ERR1331836  SAMEA3904166   ERX1403456        83        56  ERR1331836   \n",
       "ERR1331831  SAMEA3904161   ERX1403451        38        26  ERR1331831   \n",
       "ERR1331815  SAMEA3904145   ERX1403435        49        33  ERR1331815   \n",
       "...                  ...          ...       ...       ...         ...   \n",
       "ERR1331818  SAMEA3904148   ERX1403438        54        38  ERR1331818   \n",
       "ERR1331792  SAMEA3904122   ERX1403412        32        22  ERR1331792   \n",
       "ERR1331857  SAMEA3904187   ERX1403477        61        42  ERR1331857   \n",
       "ERR1331850  SAMEA3904180   ERX1403470        54        36  ERR1331850   \n",
       "ERR1331795  SAMEA3904125   ERX1403415        56        38  ERR1331795   \n",
       "\n",
       "           SRA_Sample_s Sample_Name_s Assay_Type_s  AssemblyName_s  \\\n",
       "#SampleID                                                            \n",
       "ERR1331798   ERS1091262          LR16     AMPLICON  <not provided>   \n",
       "ERR1331812   ERS1091276          LR72     AMPLICON  <not provided>   \n",
       "ERR1331836   ERS1091300          LR42     AMPLICON  <not provided>   \n",
       "ERR1331831   ERS1091295          IC10     AMPLICON  <not provided>   \n",
       "ERR1331815   ERS1091279          LR75     AMPLICON  <not provided>   \n",
       "...                 ...           ...          ...             ...   \n",
       "ERR1331818   ERS1091282          IC04     AMPLICON  <not provided>   \n",
       "ERR1331792   ERS1091256          LR09     AMPLICON  <not provided>   \n",
       "ERR1331857   ERS1091321           IC8     AMPLICON  <not provided>   \n",
       "ERR1331850   ERS1091314          LR28     AMPLICON  <not provided>   \n",
       "ERR1331795   ERS1091259          LR18     AMPLICON  <not provided>   \n",
       "\n",
       "           BioProject_s  ...  Subject Emotional_well_being  Role_physical  \\\n",
       "#SampleID                ...                                                \n",
       "ERR1331798   PRJEB13092  ...  Patient                 72.0            0.0   \n",
       "ERR1331812   PRJEB13092  ...  Patient                 56.0            NaN   \n",
       "ERR1331836   PRJEB13092  ...  Control                  NaN            NaN   \n",
       "ERR1331831   PRJEB13092  ...  Control                  NaN            NaN   \n",
       "ERR1331815   PRJEB13092  ...  Patient                  NaN            NaN   \n",
       "...                 ...  ...      ...                  ...            ...   \n",
       "ERR1331818   PRJEB13092  ...  Control                  NaN            NaN   \n",
       "ERR1331792   PRJEB13092  ...  Control                 24.0          100.0   \n",
       "ERR1331857   PRJEB13092  ...  Control                  NaN            NaN   \n",
       "ERR1331850   PRJEB13092  ...  Control                 60.0           75.0   \n",
       "ERR1331795   PRJEB13092  ...  Patient                 88.0            0.0   \n",
       "\n",
       "            Bell Physical_functioning  Pain Age    BMI  _sample_id  \\\n",
       "#SampleID                                                            \n",
       "ERR1331798  20.0                 75.0  23.0  50  37.59  ERR1331798   \n",
       "ERR1331812  30.0                 60.0  68.0  64  22.85  ERR1331812   \n",
       "ERR1331836   NaN                  NaN   NaN  35  30.66  ERR1331836   \n",
       "ERR1331831   NaN                  NaN   NaN  45  22.24  ERR1331831   \n",
       "ERR1331815   NaN                  NaN   NaN  41  32.30  ERR1331815   \n",
       "...          ...                  ...   ...  ..    ...         ...   \n",
       "ERR1331818   NaN                  NaN   NaN  32  32.98  ERR1331818   \n",
       "ERR1331792  90.0                 80.0  65.0  43  22.14  ERR1331792   \n",
       "ERR1331857   NaN                  NaN   NaN  53  29.02  ERR1331857   \n",
       "ERR1331850   NaN                 80.0  90.0  50  29.65  ERR1331850   \n",
       "ERR1331795  20.0                 55.0  55.0  62  24.39  ERR1331795   \n",
       "\n",
       "           _calour_original_abundance  \n",
       "#SampleID                              \n",
       "ERR1331798                    62629.0  \n",
       "ERR1331812                    96404.0  \n",
       "ERR1331836                   105470.0  \n",
       "ERR1331831                    50560.0  \n",
       "ERR1331815                    66414.0  \n",
       "...                               ...  \n",
       "ERR1331818                    71017.0  \n",
       "ERR1331792                    41598.0  \n",
       "ERR1331857                    89919.0  \n",
       "ERR1331850                    72977.0  \n",
       "ERR1331795                    80308.0  \n",
       "\n",
       "[87 rows x 60 columns]"
      ]
     },
     "execution_count": 4,
     "metadata": {},
     "output_type": "execute_result"
    }
   ],
   "source": [
    "cfs.sample_metadata"
   ]
  },
  {
   "cell_type": "markdown",
   "metadata": {},
   "source": [
    "## The per-feature metadata (`Experiment.feature_metadata`)\n",
    "This is a Pandas.DataFrame, with the index being the featureID (usually the sequence), and columns for the feature metadata (usually \"taxonomy\", and also additional fields added by calour following differential abundance testing)"
   ]
  },
  {
   "cell_type": "code",
   "execution_count": 5,
   "metadata": {
    "ExecuteTime": {
     "end_time": "2020-09-11T12:15:33.550998Z",
     "start_time": "2020-09-11T12:15:33.532309Z"
    }
   },
   "outputs": [
    {
     "data": {
      "text/html": [
       "<div>\n",
       "<style scoped>\n",
       "    .dataframe tbody tr th:only-of-type {\n",
       "        vertical-align: middle;\n",
       "    }\n",
       "\n",
       "    .dataframe tbody tr th {\n",
       "        vertical-align: top;\n",
       "    }\n",
       "\n",
       "    .dataframe thead th {\n",
       "        text-align: right;\n",
       "    }\n",
       "</style>\n",
       "<table border=\"1\" class=\"dataframe\">\n",
       "  <thead>\n",
       "    <tr style=\"text-align: right;\">\n",
       "      <th></th>\n",
       "      <th>_feature_id</th>\n",
       "      <th>taxonomy</th>\n",
       "    </tr>\n",
       "  </thead>\n",
       "  <tbody>\n",
       "    <tr>\n",
       "      <th>TACGGAGGATCCGAGCGTTATCCGGATTTATTGGGTTTAAAGGGAGCGTAGGCGGACGCTTAAGTCAGTTGTGAAAGTTTGCGGCTCAACCGTAAAATTGCAGTTGATACTGGGTGTCTTGAGTACAGTAGAGGCAGGCGGAATTCGTGG</th>\n",
       "      <td>TACGGAGGATCCGAGCGTTATCCGGATTTATTGGGTTTAAAGGGAG...</td>\n",
       "      <td>k__Bacteria;p__Bacteroidetes;c__Bacteroidia;o_...</td>\n",
       "    </tr>\n",
       "    <tr>\n",
       "      <th>TACGGAGGATCCGAGCGTTATCCGGATTTATTGGGTTTAAAGGGAGCGTAGGCGGGTTGTTAAGTCAGTTGTGAAAGTTTGCGGCTCAACCGTAAAATTGCAGTTGATACTGGCGACCTTGAGTGCAACAGAGGTAGGCGGAATTCGTGG</th>\n",
       "      <td>TACGGAGGATCCGAGCGTTATCCGGATTTATTGGGTTTAAAGGGAG...</td>\n",
       "      <td>k__Bacteria;p__Bacteroidetes;c__Bacteroidia;o_...</td>\n",
       "    </tr>\n",
       "    <tr>\n",
       "      <th>TACGTAGGGGGCAAGCGTTATCCGGATTTACTGGGTGTAAAGGGAGCGCAGGCGGTGCGGCAAGTCTGATGTGAAAGCCCGGGGCTCAACCCCGGGACTGCATTGGAAACTGTCGTACTTGAGTATCGGAGAGGTAAGTGGAATTCCTAG</th>\n",
       "      <td>TACGTAGGGGGCAAGCGTTATCCGGATTTACTGGGTGTAAAGGGAG...</td>\n",
       "      <td>k__Bacteria;p__Firmicutes;c__Clostridia;o__Clo...</td>\n",
       "    </tr>\n",
       "    <tr>\n",
       "      <th>TACGGAGGATCCGAGCGTTATCCGGATTTATTGGGTTTAAAGGGAGCGTAGATGGATGTTTAAGTCAGTTGTGAAAGTTTGCGGCTCAACCGTAAAATTGCAGTTGATACTGGATATCTTGAGTGCAGTTGAGGCAGGCGGAATTCGTGG</th>\n",
       "      <td>TACGGAGGATCCGAGCGTTATCCGGATTTATTGGGTTTAAAGGGAG...</td>\n",
       "      <td>k__Bacteria;p__Bacteroidetes;c__Bacteroidia;o_...</td>\n",
       "    </tr>\n",
       "    <tr>\n",
       "      <th>TACGGAGGATCCGAGCGTTATCCGGATTTATTGGGTTTAAAGGGAGCGTAGGTGGATTGTTAAGTCAGTTGTGAAAGTTTGCGGCTCAACCGTAAAATTGCAGTTGAAACTGGCAGTCTTGAGTACAGTAGAGGTGGGCGGAATTCGTGG</th>\n",
       "      <td>TACGGAGGATCCGAGCGTTATCCGGATTTATTGGGTTTAAAGGGAG...</td>\n",
       "      <td>k__Bacteria;p__Bacteroidetes;c__Bacteroidia;o_...</td>\n",
       "    </tr>\n",
       "    <tr>\n",
       "      <th>...</th>\n",
       "      <td>...</td>\n",
       "      <td>...</td>\n",
       "    </tr>\n",
       "    <tr>\n",
       "      <th>TACGTAGGGAGCAAGCGTTGTCCGGATTTACTGGGTGTAAAGGGTGCGTAGGCGGATTGGCAAGTCAGAAGTGAAATCCATGGGCTTAACCCATGAACTGCTTTTGAAACTGTTAGTCTTGAGTGAAGCAGAGGTAGGCGGAATTCCCGG</th>\n",
       "      <td>TACGTAGGGAGCAAGCGTTGTCCGGATTTACTGGGTGTAAAGGGTG...</td>\n",
       "      <td>k__Bacteria;p__Firmicutes;c__Clostridia;o__Clo...</td>\n",
       "    </tr>\n",
       "    <tr>\n",
       "      <th>TACGTAGGTGGCAAGCGTTGTCCGGAATTATTGGGCGTAAAGCGCATGTAGGCGGTTCCCTAAGTCGGTCGTGAAAATGCGGTGCTTAACGCCGTATGGCGATCGAAACTGGGGGACTTGAGTGCAGGAGAGGAAAGGGGAACTCCCAGT</th>\n",
       "      <td>TACGTAGGTGGCAAGCGTTGTCCGGAATTATTGGGCGTAAAGCGCA...</td>\n",
       "      <td>k__Bacteria;p__Firmicutes;c__Clostridia;o__Clo...</td>\n",
       "    </tr>\n",
       "    <tr>\n",
       "      <th>TACGGAGGATGCGAGCGTTATCCGGATTTATTGGGTTTAAAGGGTGCGTAGGCGGTTAATTAAGTTAGTGGTCAAATCCGGAGGCTTCACTTCCGATCGCCATTAAAACTGATTAGCTAGAGAATGGACGAGGTAGGCGGAATAAGTTAA</th>\n",
       "      <td>TACGGAGGATGCGAGCGTTATCCGGATTTATTGGGTTTAAAGGGTG...</td>\n",
       "      <td>k__Bacteria;p__Bacteroidetes;c__Bacteroidia;o_...</td>\n",
       "    </tr>\n",
       "    <tr>\n",
       "      <th>TACGTAGGGGGCAAGCGTTATCCGGATTTACTGGGTGTAAAGGGAGCGTAGACGGCTGTGTAAGTCTGAAGTGAAAGCCCGGGGCTCAACCCCGGGACTGCTTTGGAAACTGTATAGCTAGAGTGCTGGAGAGGTAAGTGGAATTCCTAG</th>\n",
       "      <td>TACGTAGGGGGCAAGCGTTATCCGGATTTACTGGGTGTAAAGGGAG...</td>\n",
       "      <td>k__Bacteria;p__Firmicutes;c__Clostridia;o__Clo...</td>\n",
       "    </tr>\n",
       "    <tr>\n",
       "      <th>TACGTAGGGGGCAAGCGTTATCCGGAATTACTGGGTGTAAAGGGTGCGTAGGTGGTATGGCAAGTCAGAAGTGAAAACCCAGGGCTTAACTCTGGGACTGCTTTTGAAACTGTCAGACTAGAGTGTAGGAGAGGTAAGCGGAATTCCTAG</th>\n",
       "      <td>TACGTAGGGGGCAAGCGTTATCCGGAATTACTGGGTGTAAAGGGTG...</td>\n",
       "      <td>k__Bacteria;p__Firmicutes;c__Clostridia;o__Clo...</td>\n",
       "    </tr>\n",
       "  </tbody>\n",
       "</table>\n",
       "<p>2129 rows × 2 columns</p>\n",
       "</div>"
      ],
      "text/plain": [
       "                                                                                          _feature_id  \\\n",
       "TACGGAGGATCCGAGCGTTATCCGGATTTATTGGGTTTAAAGGGAGC...  TACGGAGGATCCGAGCGTTATCCGGATTTATTGGGTTTAAAGGGAG...   \n",
       "TACGGAGGATCCGAGCGTTATCCGGATTTATTGGGTTTAAAGGGAGC...  TACGGAGGATCCGAGCGTTATCCGGATTTATTGGGTTTAAAGGGAG...   \n",
       "TACGTAGGGGGCAAGCGTTATCCGGATTTACTGGGTGTAAAGGGAGC...  TACGTAGGGGGCAAGCGTTATCCGGATTTACTGGGTGTAAAGGGAG...   \n",
       "TACGGAGGATCCGAGCGTTATCCGGATTTATTGGGTTTAAAGGGAGC...  TACGGAGGATCCGAGCGTTATCCGGATTTATTGGGTTTAAAGGGAG...   \n",
       "TACGGAGGATCCGAGCGTTATCCGGATTTATTGGGTTTAAAGGGAGC...  TACGGAGGATCCGAGCGTTATCCGGATTTATTGGGTTTAAAGGGAG...   \n",
       "...                                                                                               ...   \n",
       "TACGTAGGGAGCAAGCGTTGTCCGGATTTACTGGGTGTAAAGGGTGC...  TACGTAGGGAGCAAGCGTTGTCCGGATTTACTGGGTGTAAAGGGTG...   \n",
       "TACGTAGGTGGCAAGCGTTGTCCGGAATTATTGGGCGTAAAGCGCAT...  TACGTAGGTGGCAAGCGTTGTCCGGAATTATTGGGCGTAAAGCGCA...   \n",
       "TACGGAGGATGCGAGCGTTATCCGGATTTATTGGGTTTAAAGGGTGC...  TACGGAGGATGCGAGCGTTATCCGGATTTATTGGGTTTAAAGGGTG...   \n",
       "TACGTAGGGGGCAAGCGTTATCCGGATTTACTGGGTGTAAAGGGAGC...  TACGTAGGGGGCAAGCGTTATCCGGATTTACTGGGTGTAAAGGGAG...   \n",
       "TACGTAGGGGGCAAGCGTTATCCGGAATTACTGGGTGTAAAGGGTGC...  TACGTAGGGGGCAAGCGTTATCCGGAATTACTGGGTGTAAAGGGTG...   \n",
       "\n",
       "                                                                                             taxonomy  \n",
       "TACGGAGGATCCGAGCGTTATCCGGATTTATTGGGTTTAAAGGGAGC...  k__Bacteria;p__Bacteroidetes;c__Bacteroidia;o_...  \n",
       "TACGGAGGATCCGAGCGTTATCCGGATTTATTGGGTTTAAAGGGAGC...  k__Bacteria;p__Bacteroidetes;c__Bacteroidia;o_...  \n",
       "TACGTAGGGGGCAAGCGTTATCCGGATTTACTGGGTGTAAAGGGAGC...  k__Bacteria;p__Firmicutes;c__Clostridia;o__Clo...  \n",
       "TACGGAGGATCCGAGCGTTATCCGGATTTATTGGGTTTAAAGGGAGC...  k__Bacteria;p__Bacteroidetes;c__Bacteroidia;o_...  \n",
       "TACGGAGGATCCGAGCGTTATCCGGATTTATTGGGTTTAAAGGGAGC...  k__Bacteria;p__Bacteroidetes;c__Bacteroidia;o_...  \n",
       "...                                                                                               ...  \n",
       "TACGTAGGGAGCAAGCGTTGTCCGGATTTACTGGGTGTAAAGGGTGC...  k__Bacteria;p__Firmicutes;c__Clostridia;o__Clo...  \n",
       "TACGTAGGTGGCAAGCGTTGTCCGGAATTATTGGGCGTAAAGCGCAT...  k__Bacteria;p__Firmicutes;c__Clostridia;o__Clo...  \n",
       "TACGGAGGATGCGAGCGTTATCCGGATTTATTGGGTTTAAAGGGTGC...  k__Bacteria;p__Bacteroidetes;c__Bacteroidia;o_...  \n",
       "TACGTAGGGGGCAAGCGTTATCCGGATTTACTGGGTGTAAAGGGAGC...  k__Bacteria;p__Firmicutes;c__Clostridia;o__Clo...  \n",
       "TACGTAGGGGGCAAGCGTTATCCGGAATTACTGGGTGTAAAGGGTGC...  k__Bacteria;p__Firmicutes;c__Clostridia;o__Clo...  \n",
       "\n",
       "[2129 rows x 2 columns]"
      ]
     },
     "execution_count": 5,
     "metadata": {},
     "output_type": "execute_result"
    }
   ],
   "source": [
    "cfs.feature_metadata"
   ]
  },
  {
   "cell_type": "markdown",
   "metadata": {},
   "source": [
    "## Reads table (`Experiment.data`)\n",
    "This is a numpy 2D array or a scipy.Sparse matrix containing the feature X sample reads.\n",
    "\n",
    "Rows are samples, columns are features."
   ]
  },
  {
   "cell_type": "code",
   "execution_count": 6,
   "metadata": {
    "ExecuteTime": {
     "end_time": "2020-09-11T12:15:35.860217Z",
     "start_time": "2020-09-11T12:15:35.854044Z"
    }
   },
   "outputs": [
    {
     "data": {
      "text/plain": [
       "<87x2129 sparse matrix of type '<class 'numpy.float64'>'\n",
       "\twith 21995 stored elements in Compressed Sparse Row format>"
      ]
     },
     "execution_count": 6,
     "metadata": {},
     "output_type": "execute_result"
    }
   ],
   "source": [
    "cfs.data"
   ]
  },
  {
   "cell_type": "markdown",
   "metadata": {},
   "source": [
    "### Choosing sparse/dense representation of the data"
   ]
  },
  {
   "cell_type": "markdown",
   "metadata": {},
   "source": [
    "When loading the data, it is by default loaded as a scipy.Sparse.CSR matrix (which is more memory efficient for sparse data).\n",
    "\n",
    "We can force Calour to load the data as a dense numpy 2D array using the `sparse=False` parameter in the `read_amplicon()` function.\n",
    "\n",
    "We can also convert between sparse and dense using the `sparse` attribute of the experiment"
   ]
  },
  {
   "cell_type": "markdown",
   "metadata": {},
   "source": [
    "#### Convert to dense"
   ]
  },
  {
   "cell_type": "code",
   "execution_count": 7,
   "metadata": {
    "ExecuteTime": {
     "end_time": "2020-09-11T12:15:37.622375Z",
     "start_time": "2020-09-11T12:15:37.613316Z"
    }
   },
   "outputs": [
    {
     "data": {
      "text/plain": [
       "array([[3.17744176e+03, 9.53232528e+02, 7.34643695e+02, ...,\n",
       "        0.00000000e+00, 0.00000000e+00, 0.00000000e+00],\n",
       "       [2.59231982e+03, 3.83801502e+00, 3.63055475e+00, ...,\n",
       "        0.00000000e+00, 0.00000000e+00, 0.00000000e+00],\n",
       "       [1.12373187e+03, 4.78524699e+02, 0.00000000e+00, ...,\n",
       "        0.00000000e+00, 0.00000000e+00, 0.00000000e+00],\n",
       "       ...,\n",
       "       [3.01104327e+03, 0.00000000e+00, 2.22422402e-01, ...,\n",
       "        0.00000000e+00, 0.00000000e+00, 0.00000000e+00],\n",
       "       [3.40518245e+02, 1.77466873e+03, 0.00000000e+00, ...,\n",
       "        0.00000000e+00, 0.00000000e+00, 0.00000000e+00],\n",
       "       [5.02440604e+02, 0.00000000e+00, 0.00000000e+00, ...,\n",
       "        3.39941226e+01, 5.10534442e+00, 1.36972655e+00]])"
      ]
     },
     "execution_count": 7,
     "metadata": {},
     "output_type": "execute_result"
    }
   ],
   "source": [
    "cfs.sparse=False\n",
    "cfs.data"
   ]
  },
  {
   "cell_type": "markdown",
   "metadata": {},
   "source": [
    "#### convert to sparse"
   ]
  },
  {
   "cell_type": "code",
   "execution_count": 8,
   "metadata": {
    "ExecuteTime": {
     "end_time": "2020-09-11T12:15:39.844297Z",
     "start_time": "2020-09-11T12:15:39.830417Z"
    }
   },
   "outputs": [
    {
     "data": {
      "text/plain": [
       "<87x2129 sparse matrix of type '<class 'numpy.float64'>'\n",
       "\twith 21995 stored elements in Compressed Sparse Row format>"
      ]
     },
     "execution_count": 8,
     "metadata": {},
     "output_type": "execute_result"
    }
   ],
   "source": [
    "cfs.sparse=True\n",
    "cfs.data"
   ]
  },
  {
   "cell_type": "markdown",
   "metadata": {},
   "source": [
    "### Getting the data\n",
    "We can use the `Experiment.get_data()` function to obtain a copy of the data, either as sparse or dense."
   ]
  },
  {
   "cell_type": "markdown",
   "metadata": {},
   "source": [
    "#### sparse=None means keep the original format"
   ]
  },
  {
   "cell_type": "code",
   "execution_count": 9,
   "metadata": {
    "ExecuteTime": {
     "end_time": "2020-09-11T12:15:42.011433Z",
     "start_time": "2020-09-11T12:15:42.005180Z"
    }
   },
   "outputs": [
    {
     "data": {
      "text/plain": [
       "<87x2129 sparse matrix of type '<class 'numpy.float64'>'\n",
       "\twith 21995 stored elements in Compressed Sparse Row format>"
      ]
     },
     "execution_count": 9,
     "metadata": {},
     "output_type": "execute_result"
    }
   ],
   "source": [
    "dat = cfs.get_data(sparse=None)\n",
    "dat"
   ]
  },
  {
   "cell_type": "markdown",
   "metadata": {},
   "source": [
    "#### sparse=True returns a sparse representation of the data (copies if needed)"
   ]
  },
  {
   "cell_type": "code",
   "execution_count": 10,
   "metadata": {
    "ExecuteTime": {
     "end_time": "2020-09-11T12:15:43.013177Z",
     "start_time": "2020-09-11T12:15:43.007006Z"
    }
   },
   "outputs": [
    {
     "data": {
      "text/plain": [
       "<87x2129 sparse matrix of type '<class 'numpy.float64'>'\n",
       "\twith 21995 stored elements in Compressed Sparse Row format>"
      ]
     },
     "execution_count": 10,
     "metadata": {},
     "output_type": "execute_result"
    }
   ],
   "source": [
    "dat = cfs.get_data(sparse=True)\n",
    "dat"
   ]
  },
  {
   "cell_type": "markdown",
   "metadata": {},
   "source": [
    "#### sparse=False returns a dense representation of the data (copies if needed)"
   ]
  },
  {
   "cell_type": "code",
   "execution_count": 11,
   "metadata": {
    "ExecuteTime": {
     "end_time": "2020-09-11T12:15:44.040590Z",
     "start_time": "2020-09-11T12:15:44.031975Z"
    }
   },
   "outputs": [
    {
     "data": {
      "text/plain": [
       "array([[3.17744176e+03, 9.53232528e+02, 7.34643695e+02, ...,\n",
       "        0.00000000e+00, 0.00000000e+00, 0.00000000e+00],\n",
       "       [2.59231982e+03, 3.83801502e+00, 3.63055475e+00, ...,\n",
       "        0.00000000e+00, 0.00000000e+00, 0.00000000e+00],\n",
       "       [1.12373187e+03, 4.78524699e+02, 0.00000000e+00, ...,\n",
       "        0.00000000e+00, 0.00000000e+00, 0.00000000e+00],\n",
       "       ...,\n",
       "       [3.01104327e+03, 0.00000000e+00, 2.22422402e-01, ...,\n",
       "        0.00000000e+00, 0.00000000e+00, 0.00000000e+00],\n",
       "       [3.40518245e+02, 1.77466873e+03, 0.00000000e+00, ...,\n",
       "        0.00000000e+00, 0.00000000e+00, 0.00000000e+00],\n",
       "       [5.02440604e+02, 0.00000000e+00, 0.00000000e+00, ...,\n",
       "        3.39941226e+01, 5.10534442e+00, 1.36972655e+00]])"
      ]
     },
     "execution_count": 11,
     "metadata": {},
     "output_type": "execute_result"
    }
   ],
   "source": [
    "dat = cfs.get_data(sparse=False)\n",
    "dat"
   ]
  },
  {
   "cell_type": "markdown",
   "metadata": {},
   "source": [
    "#### we can also force copying the data using `copy=True`"
   ]
  },
  {
   "cell_type": "code",
   "execution_count": 12,
   "metadata": {
    "ExecuteTime": {
     "end_time": "2020-09-11T12:15:45.151064Z",
     "start_time": "2020-09-11T12:15:45.144555Z"
    }
   },
   "outputs": [
    {
     "data": {
      "text/plain": [
       "True"
      ]
     },
     "execution_count": 12,
     "metadata": {},
     "output_type": "execute_result"
    }
   ],
   "source": [
    "dat = cfs.get_data(sparse=None, copy=False)\n",
    "dat is cfs.data"
   ]
  },
  {
   "cell_type": "code",
   "execution_count": 13,
   "metadata": {
    "ExecuteTime": {
     "end_time": "2020-09-11T12:15:45.594834Z",
     "start_time": "2020-09-11T12:15:45.587892Z"
    }
   },
   "outputs": [
    {
     "data": {
      "text/plain": [
       "False"
      ]
     },
     "execution_count": 13,
     "metadata": {},
     "output_type": "execute_result"
    }
   ],
   "source": [
    "dat = cfs.get_data(sparse=None, copy=True)\n",
    "dat is cfs.data"
   ]
  },
  {
   "cell_type": "markdown",
   "metadata": {},
   "source": [
    "#### getting a single entry based on feature and sample values\n",
    "We can use the \\__getitem(sampleid, featureid)\\__ attribute."
   ]
  },
  {
   "cell_type": "code",
   "execution_count": 14,
   "metadata": {
    "ExecuteTime": {
     "end_time": "2020-09-11T12:15:46.932275Z",
     "start_time": "2020-09-11T12:15:46.924164Z"
    }
   },
   "outputs": [
    {
     "data": {
      "text/plain": [
       "1407.0828439786792"
      ]
     },
     "execution_count": 14,
     "metadata": {},
     "output_type": "execute_result"
    }
   ],
   "source": [
    "cfs['ERR1331815','TACGGAGGATCCGAGCGTTATCCGGATTTATTGGGTTTAAAGGGAGCGTAGGCGGACGCTTAAGTCAGTTGTGAAAGTTTGCGGCTCAACCGTAAAATTGCAGTTGATACTGGGTGTCTTGAGTACAGTAGAGGCAGGCGGAATTCGTGG']"
   ]
  },
  {
   "cell_type": "markdown",
   "metadata": {},
   "source": [
    "## Saving an Experiment"
   ]
  },
  {
   "cell_type": "markdown",
   "metadata": {},
   "source": [
    "### Save everything (biom table+sample/feature mapping files)\n",
    "By default saves as an HDF5 biom table. We can save as a text biom table insteadusing `fmt=\"txt\"` parameter"
   ]
  },
  {
   "cell_type": "code",
   "execution_count": 15,
   "metadata": {
    "ExecuteTime": {
     "end_time": "2020-09-11T12:15:48.533978Z",
     "start_time": "2020-09-11T12:15:48.378074Z"
    }
   },
   "outputs": [],
   "source": [
    "cfs.save('cfs')"
   ]
  },
  {
   "cell_type": "code",
   "execution_count": 16,
   "metadata": {
    "ExecuteTime": {
     "end_time": "2020-09-11T12:16:13.276429Z",
     "start_time": "2020-09-11T12:16:13.123605Z"
    }
   },
   "outputs": [
    {
     "name": "stdout",
     "output_type": "stream",
     "text": [
      "cfs.biom  cfs_feature.txt  cfs_sample.txt\r\n"
     ]
    }
   ],
   "source": [
    "!ls cfs*"
   ]
  },
  {
   "cell_type": "code",
   "execution_count": null,
   "metadata": {
    "collapsed": true
   },
   "outputs": [],
   "source": []
  }
 ],
 "metadata": {
  "kernelspec": {
   "display_name": "calour",
   "language": "python",
   "name": "calour"
  },
  "language_info": {
   "codemirror_mode": {
    "name": "ipython",
    "version": 3
   },
   "file_extension": ".py",
   "mimetype": "text/x-python",
   "name": "python",
   "nbconvert_exporter": "python",
   "pygments_lexer": "ipython3",
   "version": "3.8.5"
  },
  "toc": {
   "base_numbering": 1,
   "nav_menu": {},
   "number_sections": true,
   "sideBar": true,
   "skip_h1_title": false,
   "title_cell": "Table of Contents",
   "title_sidebar": "Contents",
   "toc_cell": false,
   "toc_position": {},
   "toc_section_display": true,
   "toc_window_display": false
  }
 },
 "nbformat": 4,
 "nbformat_minor": 2
}
